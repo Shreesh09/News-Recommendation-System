{
  "cells": [
    {
      "cell_type": "code",
      "execution_count": 9,
      "metadata": {},
      "outputs": [
        {
          "name": "stdout",
          "output_type": "stream",
          "text": [
            "Requirement already satisfied: kaggle in c:\\code\\news recommendation system\\myenv\\lib\\site-packages (1.6.14)\n",
            "Requirement already satisfied: six>=1.10 in c:\\code\\news recommendation system\\myenv\\lib\\site-packages (from kaggle) (1.16.0)\n",
            "Requirement already satisfied: certifi>=2023.7.22 in c:\\code\\news recommendation system\\myenv\\lib\\site-packages (from kaggle) (2024.6.2)\n",
            "Requirement already satisfied: python-dateutil in c:\\code\\news recommendation system\\myenv\\lib\\site-packages (from kaggle) (2.9.0.post0)\n",
            "Requirement already satisfied: requests in c:\\code\\news recommendation system\\myenv\\lib\\site-packages (from kaggle) (2.32.3)\n",
            "Requirement already satisfied: tqdm in c:\\code\\news recommendation system\\myenv\\lib\\site-packages (from kaggle) (4.66.4)\n",
            "Requirement already satisfied: python-slugify in c:\\code\\news recommendation system\\myenv\\lib\\site-packages (from kaggle) (8.0.4)\n",
            "Requirement already satisfied: urllib3 in c:\\code\\news recommendation system\\myenv\\lib\\site-packages (from kaggle) (2.2.2)\n",
            "Requirement already satisfied: bleach in c:\\code\\news recommendation system\\myenv\\lib\\site-packages (from kaggle) (6.1.0)\n",
            "Requirement already satisfied: webencodings in c:\\code\\news recommendation system\\myenv\\lib\\site-packages (from bleach->kaggle) (0.5.1)\n",
            "Requirement already satisfied: text-unidecode>=1.3 in c:\\code\\news recommendation system\\myenv\\lib\\site-packages (from python-slugify->kaggle) (1.3)\n",
            "Requirement already satisfied: charset-normalizer<4,>=2 in c:\\code\\news recommendation system\\myenv\\lib\\site-packages (from requests->kaggle) (3.3.2)\n",
            "Requirement already satisfied: idna<4,>=2.5 in c:\\code\\news recommendation system\\myenv\\lib\\site-packages (from requests->kaggle) (3.7)\n",
            "Requirement already satisfied: colorama in c:\\code\\news recommendation system\\myenv\\lib\\site-packages (from tqdm->kaggle) (0.4.6)\n",
            "Dataset URL: https://www.kaggle.com/datasets/achintyatripathi/news-dataset-18920\n",
            "License(s): copyright-authors\n",
            "news-dataset-18920.zip: Skipping, found more recently modified local copy (use --force to force download)\n"
          ]
        }
      ],
      "source": [
        "! pip install kaggle\n",
        "! kaggle datasets download achintyatripathi/news-dataset-18920"
      ]
    },
    {
      "cell_type": "code",
      "execution_count": 10,
      "metadata": {
        "_cell_guid": "79c7e3d0-c299-4dcb-8224-4455121ee9b0",
        "_kg_hide-input": true,
        "_kg_hide-output": true,
        "_uuid": "d629ff2d2480ee46fbb7e2d37f6b5fab8052498a",
        "execution": {
          "iopub.execute_input": "2024-06-29T06:19:41.672913Z",
          "iopub.status.busy": "2024-06-29T06:19:41.672402Z",
          "iopub.status.idle": "2024-06-29T06:19:41.681308Z",
          "shell.execute_reply": "2024-06-29T06:19:41.680117Z",
          "shell.execute_reply.started": "2024-06-29T06:19:41.672827Z"
        },
        "id": "-3C5DDIgstFW",
        "trusted": true
      },
      "outputs": [],
      "source": [
        "import numpy as np\n",
        "import pandas as pd\n",
        "import matplotlib.pyplot as plt"
      ]
    },
    {
      "cell_type": "markdown",
      "metadata": {
        "id": "1NzgZIFrstFX"
      },
      "source": [
        "### Step 1: Choosing your data\n"
      ]
    },
    {
      "cell_type": "code",
      "execution_count": 11,
      "metadata": {
        "execution": {
          "iopub.execute_input": "2024-06-29T06:19:41.694479Z",
          "iopub.status.busy": "2024-06-29T06:19:41.694033Z",
          "iopub.status.idle": "2024-06-29T06:19:42.123548Z",
          "shell.execute_reply": "2024-06-29T06:19:42.12257Z",
          "shell.execute_reply.started": "2024-06-29T06:19:41.69444Z"
        },
        "id": "8IboT8t7stFY",
        "trusted": true
      },
      "outputs": [],
      "source": [
        "data = pd.read_csv('news-dataset-18920/result_final.csv')"
      ]
    },
    {
      "cell_type": "code",
      "execution_count": 12,
      "metadata": {
        "colab": {
          "base_uri": "https://localhost:8080/"
        },
        "execution": {
          "iopub.execute_input": "2024-06-29T06:19:42.127269Z",
          "iopub.status.busy": "2024-06-29T06:19:42.126703Z",
          "iopub.status.idle": "2024-06-29T06:19:42.137345Z",
          "shell.execute_reply": "2024-06-29T06:19:42.136139Z",
          "shell.execute_reply.started": "2024-06-29T06:19:42.12721Z"
        },
        "id": "kEuqHR40stFa",
        "outputId": "6508ba14-8b52-470a-a512-4c9c909de33c",
        "trusted": true
      },
      "outputs": [
        {
          "data": {
            "text/plain": [
              "(2190, 9)"
            ]
          },
          "execution_count": 12,
          "metadata": {},
          "output_type": "execute_result"
        }
      ],
      "source": [
        "data.shape"
      ]
    },
    {
      "cell_type": "code",
      "execution_count": 13,
      "metadata": {
        "colab": {
          "base_uri": "https://localhost:8080/",
          "height": 675
        },
        "execution": {
          "iopub.execute_input": "2024-06-29T06:19:42.139277Z",
          "iopub.status.busy": "2024-06-29T06:19:42.138877Z",
          "iopub.status.idle": "2024-06-29T06:19:42.172934Z",
          "shell.execute_reply": "2024-06-29T06:19:42.171318Z",
          "shell.execute_reply.started": "2024-06-29T06:19:42.139238Z"
        },
        "id": "ov-S8-HNstFb",
        "outputId": "bad3a5d7-d729-4409-c1b3-126247badaf2",
        "trusted": true
      },
      "outputs": [
        {
          "data": {
            "text/html": [
              "<div>\n",
              "<style scoped>\n",
              "    .dataframe tbody tr th:only-of-type {\n",
              "        vertical-align: middle;\n",
              "    }\n",
              "\n",
              "    .dataframe tbody tr th {\n",
              "        vertical-align: top;\n",
              "    }\n",
              "\n",
              "    .dataframe thead th {\n",
              "        text-align: right;\n",
              "    }\n",
              "</style>\n",
              "<table border=\"1\" class=\"dataframe\">\n",
              "  <thead>\n",
              "    <tr style=\"text-align: right;\">\n",
              "      <th></th>\n",
              "      <th>Unnamed: 0.1</th>\n",
              "      <th>Unnamed: 0</th>\n",
              "      <th>link</th>\n",
              "      <th>text</th>\n",
              "      <th>title</th>\n",
              "      <th>date</th>\n",
              "      <th>keywords</th>\n",
              "      <th>summary</th>\n",
              "      <th>title_summary</th>\n",
              "    </tr>\n",
              "  </thead>\n",
              "  <tbody>\n",
              "    <tr>\n",
              "      <th>0</th>\n",
              "      <td>0</td>\n",
              "      <td>0</td>\n",
              "      <td>http://techcrunch.com/2020/09/07/vodafone-idea...</td>\n",
              "      <td>Vodafone Idea, one of the largest telecom oper...</td>\n",
              "      <td>Indian telecom giant Vodafone Idea rebrands as...</td>\n",
              "      <td>2020-09-07 00:00:00</td>\n",
              "      <td>['rebrands', 'idea', 'vi', 'giant', 'brand', '...</td>\n",
              "      <td>Vodafone Idea, one of the largest telecom oper...</td>\n",
              "      <td>Indian telecom giant Vodafone Idea rebrands as...</td>\n",
              "    </tr>\n",
              "    <tr>\n",
              "      <th>1</th>\n",
              "      <td>1</td>\n",
              "      <td>1</td>\n",
              "      <td>http://techcrunch.com/2020/09/16/facebook-addr...</td>\n",
              "      <td>At the beginning of the previous decade, Faceb...</td>\n",
              "      <td>Facebook addresses political controversy in In...</td>\n",
              "      <td>2020-09-16 00:00:00</td>\n",
              "      <td>['opportunities', 'whatsapp', 'controversy', '...</td>\n",
              "      <td>Politicians in the country today heavily rely ...</td>\n",
              "      <td>Facebook addresses political controversy in In...</td>\n",
              "    </tr>\n",
              "    <tr>\n",
              "      <th>2</th>\n",
              "      <td>2</td>\n",
              "      <td>2</td>\n",
              "      <td>http://techcrunch.com/2020/09/14/youtube-launc...</td>\n",
              "      <td>As TikTok’s fate in the U.S. remains murky, Yo...</td>\n",
              "      <td>YouTube launches its TikTok rival, YouTube Sho...</td>\n",
              "      <td>2020-09-14 00:00:00</td>\n",
              "      <td>['rival', 'video', 'feature', 'access', 'youtu...</td>\n",
              "      <td>As TikTok’s fate in the U.S. remains murky, Yo...</td>\n",
              "      <td>YouTube launches its TikTok rival, YouTube Sho...</td>\n",
              "    </tr>\n",
              "    <tr>\n",
              "      <th>3</th>\n",
              "      <td>3</td>\n",
              "      <td>3</td>\n",
              "      <td>http://techcrunch.com/2020/09/09/groww-an-inve...</td>\n",
              "      <td>Even as more than 150 million people are using...</td>\n",
              "      <td>Groww, an investment app for millennials in In...</td>\n",
              "      <td>2020-09-09 00:00:00</td>\n",
              "      <td>['world', 'yc', 'continuity', 'stocks', 'groww...</td>\n",
              "      <td>YC Continuity, the growth-stage investment fun...</td>\n",
              "      <td>Groww, an investment app for millennials in In...</td>\n",
              "    </tr>\n",
              "    <tr>\n",
              "      <th>4</th>\n",
              "      <td>4</td>\n",
              "      <td>4</td>\n",
              "      <td>http://techcrunch.com/2020/09/15/lanzatech-is-...</td>\n",
              "      <td>As part of the continuing global rollout of La...</td>\n",
              "      <td>LanzaTech is developing a small-scale waste bi...</td>\n",
              "      <td>2020-09-15 00:00:00</td>\n",
              "      <td>['production', 'distributed', 'developing', 's...</td>\n",
              "      <td>As part of the continuing global rollout of La...</td>\n",
              "      <td>LanzaTech is developing a small-scale waste bi...</td>\n",
              "    </tr>\n",
              "  </tbody>\n",
              "</table>\n",
              "</div>"
            ],
            "text/plain": [
              "   Unnamed: 0.1  Unnamed: 0  \\\n",
              "0             0           0   \n",
              "1             1           1   \n",
              "2             2           2   \n",
              "3             3           3   \n",
              "4             4           4   \n",
              "\n",
              "                                                link  \\\n",
              "0  http://techcrunch.com/2020/09/07/vodafone-idea...   \n",
              "1  http://techcrunch.com/2020/09/16/facebook-addr...   \n",
              "2  http://techcrunch.com/2020/09/14/youtube-launc...   \n",
              "3  http://techcrunch.com/2020/09/09/groww-an-inve...   \n",
              "4  http://techcrunch.com/2020/09/15/lanzatech-is-...   \n",
              "\n",
              "                                                text  \\\n",
              "0  Vodafone Idea, one of the largest telecom oper...   \n",
              "1  At the beginning of the previous decade, Faceb...   \n",
              "2  As TikTok’s fate in the U.S. remains murky, Yo...   \n",
              "3  Even as more than 150 million people are using...   \n",
              "4  As part of the continuing global rollout of La...   \n",
              "\n",
              "                                               title                 date  \\\n",
              "0  Indian telecom giant Vodafone Idea rebrands as...  2020-09-07 00:00:00   \n",
              "1  Facebook addresses political controversy in In...  2020-09-16 00:00:00   \n",
              "2  YouTube launches its TikTok rival, YouTube Sho...  2020-09-14 00:00:00   \n",
              "3  Groww, an investment app for millennials in In...  2020-09-09 00:00:00   \n",
              "4  LanzaTech is developing a small-scale waste bi...  2020-09-15 00:00:00   \n",
              "\n",
              "                                            keywords  \\\n",
              "0  ['rebrands', 'idea', 'vi', 'giant', 'brand', '...   \n",
              "1  ['opportunities', 'whatsapp', 'controversy', '...   \n",
              "2  ['rival', 'video', 'feature', 'access', 'youtu...   \n",
              "3  ['world', 'yc', 'continuity', 'stocks', 'groww...   \n",
              "4  ['production', 'distributed', 'developing', 's...   \n",
              "\n",
              "                                             summary  \\\n",
              "0  Vodafone Idea, one of the largest telecom oper...   \n",
              "1  Politicians in the country today heavily rely ...   \n",
              "2  As TikTok’s fate in the U.S. remains murky, Yo...   \n",
              "3  YC Continuity, the growth-stage investment fun...   \n",
              "4  As part of the continuing global rollout of La...   \n",
              "\n",
              "                                       title_summary  \n",
              "0  Indian telecom giant Vodafone Idea rebrands as...  \n",
              "1  Facebook addresses political controversy in In...  \n",
              "2  YouTube launches its TikTok rival, YouTube Sho...  \n",
              "3  Groww, an investment app for millennials in In...  \n",
              "4  LanzaTech is developing a small-scale waste bi...  "
            ]
          },
          "execution_count": 13,
          "metadata": {},
          "output_type": "execute_result"
        }
      ],
      "source": [
        "data.head()"
      ]
    },
    {
      "cell_type": "markdown",
      "metadata": {
        "id": "CuzhQZvOstFc"
      },
      "source": [
        "* ##### Data cleaning and selecting few columns we will be requiring for the recomendation--"
      ]
    },
    {
      "cell_type": "code",
      "execution_count": 14,
      "metadata": {
        "execution": {
          "iopub.execute_input": "2024-06-29T06:19:42.174811Z",
          "iopub.status.busy": "2024-06-29T06:19:42.174447Z",
          "iopub.status.idle": "2024-06-29T06:19:42.216408Z",
          "shell.execute_reply": "2024-06-29T06:19:42.215391Z",
          "shell.execute_reply.started": "2024-06-29T06:19:42.174773Z"
        },
        "id": "oIF6yH1rstFd",
        "trusted": true
      },
      "outputs": [],
      "source": [
        "data = data.drop_duplicates(subset=None, keep='first', inplace=False)"
      ]
    },
    {
      "cell_type": "code",
      "execution_count": 15,
      "metadata": {
        "colab": {
          "base_uri": "https://localhost:8080/"
        },
        "execution": {
          "iopub.execute_input": "2024-06-29T06:19:42.220975Z",
          "iopub.status.busy": "2024-06-29T06:19:42.220585Z",
          "iopub.status.idle": "2024-06-29T06:19:42.227205Z",
          "shell.execute_reply": "2024-06-29T06:19:42.226121Z",
          "shell.execute_reply.started": "2024-06-29T06:19:42.220937Z"
        },
        "id": "O3p4l81XstFe",
        "outputId": "1448856b-8ec9-4e8f-869f-5cfb9a0d3cb2",
        "trusted": true
      },
      "outputs": [
        {
          "data": {
            "text/plain": [
              "(2190, 9)"
            ]
          },
          "execution_count": 15,
          "metadata": {},
          "output_type": "execute_result"
        }
      ],
      "source": [
        "data.shape"
      ]
    },
    {
      "cell_type": "code",
      "execution_count": 16,
      "metadata": {
        "colab": {
          "base_uri": "https://localhost:8080/",
          "height": 1000
        },
        "execution": {
          "iopub.execute_input": "2024-06-29T06:19:42.231722Z",
          "iopub.status.busy": "2024-06-29T06:19:42.231221Z",
          "iopub.status.idle": "2024-06-29T06:19:42.267209Z",
          "shell.execute_reply": "2024-06-29T06:19:42.266247Z",
          "shell.execute_reply.started": "2024-06-29T06:19:42.23167Z"
        },
        "id": "2m51Kp1CstFg",
        "outputId": "6565271a-e6c2-4132-b87f-a82e8dc94def",
        "trusted": true
      },
      "outputs": [
        {
          "data": {
            "text/html": [
              "<div>\n",
              "<style scoped>\n",
              "    .dataframe tbody tr th:only-of-type {\n",
              "        vertical-align: middle;\n",
              "    }\n",
              "\n",
              "    .dataframe tbody tr th {\n",
              "        vertical-align: top;\n",
              "    }\n",
              "\n",
              "    .dataframe thead th {\n",
              "        text-align: right;\n",
              "    }\n",
              "</style>\n",
              "<table border=\"1\" class=\"dataframe\">\n",
              "  <thead>\n",
              "    <tr style=\"text-align: right;\">\n",
              "      <th></th>\n",
              "      <th>id</th>\n",
              "      <th>Unnamed: 0.1</th>\n",
              "      <th>Unnamed: 0</th>\n",
              "      <th>link</th>\n",
              "      <th>text</th>\n",
              "      <th>title</th>\n",
              "      <th>date</th>\n",
              "      <th>keywords</th>\n",
              "      <th>summary</th>\n",
              "      <th>title_summary</th>\n",
              "    </tr>\n",
              "  </thead>\n",
              "  <tbody>\n",
              "    <tr>\n",
              "      <th>0</th>\n",
              "      <td>0</td>\n",
              "      <td>0</td>\n",
              "      <td>0</td>\n",
              "      <td>http://techcrunch.com/2020/09/07/vodafone-idea...</td>\n",
              "      <td>Vodafone Idea, one of the largest telecom oper...</td>\n",
              "      <td>Indian telecom giant Vodafone Idea rebrands as...</td>\n",
              "      <td>2020-09-07 00:00:00</td>\n",
              "      <td>['rebrands', 'idea', 'vi', 'giant', 'brand', '...</td>\n",
              "      <td>Vodafone Idea, one of the largest telecom oper...</td>\n",
              "      <td>Indian telecom giant Vodafone Idea rebrands as...</td>\n",
              "    </tr>\n",
              "    <tr>\n",
              "      <th>1</th>\n",
              "      <td>1</td>\n",
              "      <td>1</td>\n",
              "      <td>1</td>\n",
              "      <td>http://techcrunch.com/2020/09/16/facebook-addr...</td>\n",
              "      <td>At the beginning of the previous decade, Faceb...</td>\n",
              "      <td>Facebook addresses political controversy in In...</td>\n",
              "      <td>2020-09-16 00:00:00</td>\n",
              "      <td>['opportunities', 'whatsapp', 'controversy', '...</td>\n",
              "      <td>Politicians in the country today heavily rely ...</td>\n",
              "      <td>Facebook addresses political controversy in In...</td>\n",
              "    </tr>\n",
              "    <tr>\n",
              "      <th>2</th>\n",
              "      <td>2</td>\n",
              "      <td>2</td>\n",
              "      <td>2</td>\n",
              "      <td>http://techcrunch.com/2020/09/14/youtube-launc...</td>\n",
              "      <td>As TikTok’s fate in the U.S. remains murky, Yo...</td>\n",
              "      <td>YouTube launches its TikTok rival, YouTube Sho...</td>\n",
              "      <td>2020-09-14 00:00:00</td>\n",
              "      <td>['rival', 'video', 'feature', 'access', 'youtu...</td>\n",
              "      <td>As TikTok’s fate in the U.S. remains murky, Yo...</td>\n",
              "      <td>YouTube launches its TikTok rival, YouTube Sho...</td>\n",
              "    </tr>\n",
              "    <tr>\n",
              "      <th>3</th>\n",
              "      <td>3</td>\n",
              "      <td>3</td>\n",
              "      <td>3</td>\n",
              "      <td>http://techcrunch.com/2020/09/09/groww-an-inve...</td>\n",
              "      <td>Even as more than 150 million people are using...</td>\n",
              "      <td>Groww, an investment app for millennials in In...</td>\n",
              "      <td>2020-09-09 00:00:00</td>\n",
              "      <td>['world', 'yc', 'continuity', 'stocks', 'groww...</td>\n",
              "      <td>YC Continuity, the growth-stage investment fun...</td>\n",
              "      <td>Groww, an investment app for millennials in In...</td>\n",
              "    </tr>\n",
              "    <tr>\n",
              "      <th>4</th>\n",
              "      <td>4</td>\n",
              "      <td>4</td>\n",
              "      <td>4</td>\n",
              "      <td>http://techcrunch.com/2020/09/15/lanzatech-is-...</td>\n",
              "      <td>As part of the continuing global rollout of La...</td>\n",
              "      <td>LanzaTech is developing a small-scale waste bi...</td>\n",
              "      <td>2020-09-15 00:00:00</td>\n",
              "      <td>['production', 'distributed', 'developing', 's...</td>\n",
              "      <td>As part of the continuing global rollout of La...</td>\n",
              "      <td>LanzaTech is developing a small-scale waste bi...</td>\n",
              "    </tr>\n",
              "    <tr>\n",
              "      <th>...</th>\n",
              "      <td>...</td>\n",
              "      <td>...</td>\n",
              "      <td>...</td>\n",
              "      <td>...</td>\n",
              "      <td>...</td>\n",
              "      <td>...</td>\n",
              "      <td>...</td>\n",
              "      <td>...</td>\n",
              "      <td>...</td>\n",
              "      <td>...</td>\n",
              "    </tr>\n",
              "    <tr>\n",
              "      <th>2185</th>\n",
              "      <td>2185</td>\n",
              "      <td>1285</td>\n",
              "      <td>1285</td>\n",
              "      <td>https://uk.reuters.com/article/uk-brazil-econo...</td>\n",
              "      <td>BRASILIA (Reuters) - Paulo Guedes has faced hi...</td>\n",
              "      <td>Brazil's Guedes finds influence waning as Bols...</td>\n",
              "      <td>2020-09-16 18:18:18+00:00</td>\n",
              "      <td>['bolsonaro', 'guedes', 'reins', 'economic', '...</td>\n",
              "      <td>FILE PHOTO: Brazil's Economy Minister Paulo Gu...</td>\n",
              "      <td>Brazil's Guedes finds influence waning as Bols...</td>\n",
              "    </tr>\n",
              "    <tr>\n",
              "      <th>2186</th>\n",
              "      <td>2186</td>\n",
              "      <td>1286</td>\n",
              "      <td>1286</td>\n",
              "      <td>https://www.reuters.com/article/us-britain-boe...</td>\n",
              "      <td>LONDON (Reuters) - The Bank of England is expe...</td>\n",
              "      <td>Bank of England gears up for next stimulus push</td>\n",
              "      <td>2020-09-16 23:07:30+00:00</td>\n",
              "      <td>['push', 'bank', 'england', 'zero', 'signal', ...</td>\n",
              "      <td>LONDON (Reuters) - The Bank of England is expe...</td>\n",
              "      <td>Bank of England gears up for next stimulus pus...</td>\n",
              "    </tr>\n",
              "    <tr>\n",
              "      <th>2187</th>\n",
              "      <td>2187</td>\n",
              "      <td>1287</td>\n",
              "      <td>1287</td>\n",
              "      <td>https://www.reuters.com/article/syria-crisis-f...</td>\n",
              "      <td>AMMAN (Reuters) - Syria is experiencing worsen...</td>\n",
              "      <td>Syria says U.S. sanctions behind acute fuel cr...</td>\n",
              "      <td>2020-09-16 23:25:09+00:00</td>\n",
              "      <td>['shortages', 'imports', 'gasoline', 'shipment...</td>\n",
              "      <td>AMMAN (Reuters) - Syria is experiencing worsen...</td>\n",
              "      <td>Syria says U.S. sanctions behind acute fuel cr...</td>\n",
              "    </tr>\n",
              "    <tr>\n",
              "      <th>2188</th>\n",
              "      <td>2188</td>\n",
              "      <td>1288</td>\n",
              "      <td>1288</td>\n",
              "      <td>https://af.reuters.com/article/uk-iran-usa-wor...</td>\n",
              "      <td>Curiosity high for TV's anything-can-happen vi...</td>\n",
              "      <td>Business &amp; Financial News, U.S &amp; International...</td>\n",
              "      <td>NaN</td>\n",
              "      <td>['international', 'tvs', 'sundays', 'united', ...</td>\n",
              "      <td>Curiosity high for TV's anything-can-happen vi...</td>\n",
              "      <td>Business &amp; Financial News, U.S &amp; International...</td>\n",
              "    </tr>\n",
              "    <tr>\n",
              "      <th>2189</th>\n",
              "      <td>2189</td>\n",
              "      <td>1289</td>\n",
              "      <td>1289</td>\n",
              "      <td>https://in.reuters.com/article/global-metals-i...</td>\n",
              "      <td>MELBOURNE, Sept 17 (Reuters) - London copper f...</td>\n",
              "      <td>METALS-LME copper falls most in seven sessions...</td>\n",
              "      <td>2020-09-17 04:45:08+00:00</td>\n",
              "      <td>['copper', 'sessions', 'metalslme', 'seven', '...</td>\n",
              "      <td>MELBOURNE, Sept 17 (Reuters) - London copper f...</td>\n",
              "      <td>METALS-LME copper falls most in seven sessions...</td>\n",
              "    </tr>\n",
              "  </tbody>\n",
              "</table>\n",
              "<p>2190 rows × 10 columns</p>\n",
              "</div>"
            ],
            "text/plain": [
              "        id  Unnamed: 0.1  Unnamed: 0  \\\n",
              "0        0             0           0   \n",
              "1        1             1           1   \n",
              "2        2             2           2   \n",
              "3        3             3           3   \n",
              "4        4             4           4   \n",
              "...    ...           ...         ...   \n",
              "2185  2185          1285        1285   \n",
              "2186  2186          1286        1286   \n",
              "2187  2187          1287        1287   \n",
              "2188  2188          1288        1288   \n",
              "2189  2189          1289        1289   \n",
              "\n",
              "                                                   link  \\\n",
              "0     http://techcrunch.com/2020/09/07/vodafone-idea...   \n",
              "1     http://techcrunch.com/2020/09/16/facebook-addr...   \n",
              "2     http://techcrunch.com/2020/09/14/youtube-launc...   \n",
              "3     http://techcrunch.com/2020/09/09/groww-an-inve...   \n",
              "4     http://techcrunch.com/2020/09/15/lanzatech-is-...   \n",
              "...                                                 ...   \n",
              "2185  https://uk.reuters.com/article/uk-brazil-econo...   \n",
              "2186  https://www.reuters.com/article/us-britain-boe...   \n",
              "2187  https://www.reuters.com/article/syria-crisis-f...   \n",
              "2188  https://af.reuters.com/article/uk-iran-usa-wor...   \n",
              "2189  https://in.reuters.com/article/global-metals-i...   \n",
              "\n",
              "                                                   text  \\\n",
              "0     Vodafone Idea, one of the largest telecom oper...   \n",
              "1     At the beginning of the previous decade, Faceb...   \n",
              "2     As TikTok’s fate in the U.S. remains murky, Yo...   \n",
              "3     Even as more than 150 million people are using...   \n",
              "4     As part of the continuing global rollout of La...   \n",
              "...                                                 ...   \n",
              "2185  BRASILIA (Reuters) - Paulo Guedes has faced hi...   \n",
              "2186  LONDON (Reuters) - The Bank of England is expe...   \n",
              "2187  AMMAN (Reuters) - Syria is experiencing worsen...   \n",
              "2188  Curiosity high for TV's anything-can-happen vi...   \n",
              "2189  MELBOURNE, Sept 17 (Reuters) - London copper f...   \n",
              "\n",
              "                                                  title  \\\n",
              "0     Indian telecom giant Vodafone Idea rebrands as...   \n",
              "1     Facebook addresses political controversy in In...   \n",
              "2     YouTube launches its TikTok rival, YouTube Sho...   \n",
              "3     Groww, an investment app for millennials in In...   \n",
              "4     LanzaTech is developing a small-scale waste bi...   \n",
              "...                                                 ...   \n",
              "2185  Brazil's Guedes finds influence waning as Bols...   \n",
              "2186    Bank of England gears up for next stimulus push   \n",
              "2187  Syria says U.S. sanctions behind acute fuel cr...   \n",
              "2188  Business & Financial News, U.S & International...   \n",
              "2189  METALS-LME copper falls most in seven sessions...   \n",
              "\n",
              "                           date  \\\n",
              "0           2020-09-07 00:00:00   \n",
              "1           2020-09-16 00:00:00   \n",
              "2           2020-09-14 00:00:00   \n",
              "3           2020-09-09 00:00:00   \n",
              "4           2020-09-15 00:00:00   \n",
              "...                         ...   \n",
              "2185  2020-09-16 18:18:18+00:00   \n",
              "2186  2020-09-16 23:07:30+00:00   \n",
              "2187  2020-09-16 23:25:09+00:00   \n",
              "2188                        NaN   \n",
              "2189  2020-09-17 04:45:08+00:00   \n",
              "\n",
              "                                               keywords  \\\n",
              "0     ['rebrands', 'idea', 'vi', 'giant', 'brand', '...   \n",
              "1     ['opportunities', 'whatsapp', 'controversy', '...   \n",
              "2     ['rival', 'video', 'feature', 'access', 'youtu...   \n",
              "3     ['world', 'yc', 'continuity', 'stocks', 'groww...   \n",
              "4     ['production', 'distributed', 'developing', 's...   \n",
              "...                                                 ...   \n",
              "2185  ['bolsonaro', 'guedes', 'reins', 'economic', '...   \n",
              "2186  ['push', 'bank', 'england', 'zero', 'signal', ...   \n",
              "2187  ['shortages', 'imports', 'gasoline', 'shipment...   \n",
              "2188  ['international', 'tvs', 'sundays', 'united', ...   \n",
              "2189  ['copper', 'sessions', 'metalslme', 'seven', '...   \n",
              "\n",
              "                                                summary  \\\n",
              "0     Vodafone Idea, one of the largest telecom oper...   \n",
              "1     Politicians in the country today heavily rely ...   \n",
              "2     As TikTok’s fate in the U.S. remains murky, Yo...   \n",
              "3     YC Continuity, the growth-stage investment fun...   \n",
              "4     As part of the continuing global rollout of La...   \n",
              "...                                                 ...   \n",
              "2185  FILE PHOTO: Brazil's Economy Minister Paulo Gu...   \n",
              "2186  LONDON (Reuters) - The Bank of England is expe...   \n",
              "2187  AMMAN (Reuters) - Syria is experiencing worsen...   \n",
              "2188  Curiosity high for TV's anything-can-happen vi...   \n",
              "2189  MELBOURNE, Sept 17 (Reuters) - London copper f...   \n",
              "\n",
              "                                          title_summary  \n",
              "0     Indian telecom giant Vodafone Idea rebrands as...  \n",
              "1     Facebook addresses political controversy in In...  \n",
              "2     YouTube launches its TikTok rival, YouTube Sho...  \n",
              "3     Groww, an investment app for millennials in In...  \n",
              "4     LanzaTech is developing a small-scale waste bi...  \n",
              "...                                                 ...  \n",
              "2185  Brazil's Guedes finds influence waning as Bols...  \n",
              "2186  Bank of England gears up for next stimulus pus...  \n",
              "2187  Syria says U.S. sanctions behind acute fuel cr...  \n",
              "2188  Business & Financial News, U.S & International...  \n",
              "2189  METALS-LME copper falls most in seven sessions...  \n",
              "\n",
              "[2190 rows x 10 columns]"
            ]
          },
          "execution_count": 16,
          "metadata": {},
          "output_type": "execute_result"
        }
      ],
      "source": [
        "data.insert(0,'id',range(0,data.shape[0]))\n",
        "data"
      ]
    },
    {
      "cell_type": "code",
      "execution_count": 17,
      "metadata": {
        "execution": {
          "iopub.execute_input": "2024-06-29T06:19:42.269022Z",
          "iopub.status.busy": "2024-06-29T06:19:42.268665Z",
          "iopub.status.idle": "2024-06-29T06:19:42.275846Z",
          "shell.execute_reply": "2024-06-29T06:19:42.27468Z",
          "shell.execute_reply.started": "2024-06-29T06:19:42.268984Z"
        },
        "id": "2tZHPD5dstFh",
        "trusted": true
      },
      "outputs": [],
      "source": [
        "ds = data[['date','title','text','link']]"
      ]
    },
    {
      "cell_type": "code",
      "execution_count": 18,
      "metadata": {
        "colab": {
          "base_uri": "https://localhost:8080/"
        },
        "execution": {
          "iopub.execute_input": "2024-06-29T06:19:42.278346Z",
          "iopub.status.busy": "2024-06-29T06:19:42.277845Z",
          "iopub.status.idle": "2024-06-29T06:19:42.293643Z",
          "shell.execute_reply": "2024-06-29T06:19:42.292029Z",
          "shell.execute_reply.started": "2024-06-29T06:19:42.278295Z"
        },
        "id": "zvrexnGTstFh",
        "outputId": "ca00ec6c-c93d-4b34-9657-ead57b79ca04",
        "trusted": true
      },
      "outputs": [
        {
          "data": {
            "text/plain": [
              "(2190, 4)"
            ]
          },
          "execution_count": 18,
          "metadata": {},
          "output_type": "execute_result"
        }
      ],
      "source": [
        "ds.shape"
      ]
    },
    {
      "cell_type": "code",
      "execution_count": 19,
      "metadata": {
        "execution": {
          "iopub.execute_input": "2024-06-29T06:19:42.295807Z",
          "iopub.status.busy": "2024-06-29T06:19:42.295372Z",
          "iopub.status.idle": "2024-06-29T06:19:42.33042Z",
          "shell.execute_reply": "2024-06-29T06:19:42.329334Z",
          "shell.execute_reply.started": "2024-06-29T06:19:42.295742Z"
        },
        "id": "qWQI2vDYstFj",
        "trusted": true
      },
      "outputs": [],
      "source": [
        "ds = ds.dropna()"
      ]
    },
    {
      "cell_type": "code",
      "execution_count": 20,
      "metadata": {
        "execution": {
          "iopub.execute_input": "2024-06-29T06:19:42.332565Z",
          "iopub.status.busy": "2024-06-29T06:19:42.332097Z",
          "iopub.status.idle": "2024-06-29T06:19:42.367087Z",
          "shell.execute_reply": "2024-06-29T06:19:42.366146Z",
          "shell.execute_reply.started": "2024-06-29T06:19:42.332525Z"
        },
        "id": "xVAOp29bstFj",
        "trusted": true
      },
      "outputs": [],
      "source": [
        "ds = ds.drop_duplicates(subset=None, keep='first', inplace=False)"
      ]
    },
    {
      "cell_type": "code",
      "execution_count": 21,
      "metadata": {
        "execution": {
          "iopub.execute_input": "2024-06-29T06:19:42.369231Z",
          "iopub.status.busy": "2024-06-29T06:19:42.368861Z",
          "iopub.status.idle": "2024-06-29T06:19:42.37605Z",
          "shell.execute_reply": "2024-06-29T06:19:42.374861Z",
          "shell.execute_reply.started": "2024-06-29T06:19:42.369195Z"
        },
        "id": "9xqP9izNstFk",
        "trusted": true
      },
      "outputs": [],
      "source": [
        "ds.insert(0,'id',range(0,ds.shape[0]))"
      ]
    },
    {
      "cell_type": "code",
      "execution_count": 22,
      "metadata": {
        "colab": {
          "base_uri": "https://localhost:8080/"
        },
        "execution": {
          "iopub.execute_input": "2024-06-29T06:19:42.378071Z",
          "iopub.status.busy": "2024-06-29T06:19:42.377697Z",
          "iopub.status.idle": "2024-06-29T06:19:42.390776Z",
          "shell.execute_reply": "2024-06-29T06:19:42.389781Z",
          "shell.execute_reply.started": "2024-06-29T06:19:42.378025Z"
        },
        "id": "PZCtY3HWstFl",
        "outputId": "d5b0172c-2095-4665-d513-c65a5ecc6249",
        "trusted": true
      },
      "outputs": [
        {
          "data": {
            "text/plain": [
              "(1496, 5)"
            ]
          },
          "execution_count": 22,
          "metadata": {},
          "output_type": "execute_result"
        }
      ],
      "source": [
        "ds.shape"
      ]
    },
    {
      "cell_type": "code",
      "execution_count": 23,
      "metadata": {
        "colab": {
          "base_uri": "https://localhost:8080/",
          "height": 293
        },
        "execution": {
          "iopub.execute_input": "2024-06-29T06:19:42.392866Z",
          "iopub.status.busy": "2024-06-29T06:19:42.392511Z",
          "iopub.status.idle": "2024-06-29T06:19:42.414348Z",
          "shell.execute_reply": "2024-06-29T06:19:42.413209Z",
          "shell.execute_reply.started": "2024-06-29T06:19:42.392831Z"
        },
        "id": "E7V_WhYostFl",
        "outputId": "bcd2308b-a05e-4e30-c101-d47b8caa5415",
        "trusted": true
      },
      "outputs": [
        {
          "data": {
            "text/html": [
              "<div>\n",
              "<style scoped>\n",
              "    .dataframe tbody tr th:only-of-type {\n",
              "        vertical-align: middle;\n",
              "    }\n",
              "\n",
              "    .dataframe tbody tr th {\n",
              "        vertical-align: top;\n",
              "    }\n",
              "\n",
              "    .dataframe thead th {\n",
              "        text-align: right;\n",
              "    }\n",
              "</style>\n",
              "<table border=\"1\" class=\"dataframe\">\n",
              "  <thead>\n",
              "    <tr style=\"text-align: right;\">\n",
              "      <th></th>\n",
              "      <th>id</th>\n",
              "      <th>date</th>\n",
              "      <th>title</th>\n",
              "      <th>text</th>\n",
              "      <th>link</th>\n",
              "    </tr>\n",
              "  </thead>\n",
              "  <tbody>\n",
              "    <tr>\n",
              "      <th>0</th>\n",
              "      <td>0</td>\n",
              "      <td>2020-09-07 00:00:00</td>\n",
              "      <td>Indian telecom giant Vodafone Idea rebrands as...</td>\n",
              "      <td>Vodafone Idea, one of the largest telecom oper...</td>\n",
              "      <td>http://techcrunch.com/2020/09/07/vodafone-idea...</td>\n",
              "    </tr>\n",
              "    <tr>\n",
              "      <th>1</th>\n",
              "      <td>1</td>\n",
              "      <td>2020-09-16 00:00:00</td>\n",
              "      <td>Facebook addresses political controversy in In...</td>\n",
              "      <td>At the beginning of the previous decade, Faceb...</td>\n",
              "      <td>http://techcrunch.com/2020/09/16/facebook-addr...</td>\n",
              "    </tr>\n",
              "    <tr>\n",
              "      <th>2</th>\n",
              "      <td>2</td>\n",
              "      <td>2020-09-14 00:00:00</td>\n",
              "      <td>YouTube launches its TikTok rival, YouTube Sho...</td>\n",
              "      <td>As TikTok’s fate in the U.S. remains murky, Yo...</td>\n",
              "      <td>http://techcrunch.com/2020/09/14/youtube-launc...</td>\n",
              "    </tr>\n",
              "    <tr>\n",
              "      <th>3</th>\n",
              "      <td>3</td>\n",
              "      <td>2020-09-09 00:00:00</td>\n",
              "      <td>Groww, an investment app for millennials in In...</td>\n",
              "      <td>Even as more than 150 million people are using...</td>\n",
              "      <td>http://techcrunch.com/2020/09/09/groww-an-inve...</td>\n",
              "    </tr>\n",
              "    <tr>\n",
              "      <th>4</th>\n",
              "      <td>4</td>\n",
              "      <td>2020-09-15 00:00:00</td>\n",
              "      <td>LanzaTech is developing a small-scale waste bi...</td>\n",
              "      <td>As part of the continuing global rollout of La...</td>\n",
              "      <td>http://techcrunch.com/2020/09/15/lanzatech-is-...</td>\n",
              "    </tr>\n",
              "  </tbody>\n",
              "</table>\n",
              "</div>"
            ],
            "text/plain": [
              "   id                 date                                              title  \\\n",
              "0   0  2020-09-07 00:00:00  Indian telecom giant Vodafone Idea rebrands as...   \n",
              "1   1  2020-09-16 00:00:00  Facebook addresses political controversy in In...   \n",
              "2   2  2020-09-14 00:00:00  YouTube launches its TikTok rival, YouTube Sho...   \n",
              "3   3  2020-09-09 00:00:00  Groww, an investment app for millennials in In...   \n",
              "4   4  2020-09-15 00:00:00  LanzaTech is developing a small-scale waste bi...   \n",
              "\n",
              "                                                text  \\\n",
              "0  Vodafone Idea, one of the largest telecom oper...   \n",
              "1  At the beginning of the previous decade, Faceb...   \n",
              "2  As TikTok’s fate in the U.S. remains murky, Yo...   \n",
              "3  Even as more than 150 million people are using...   \n",
              "4  As part of the continuing global rollout of La...   \n",
              "\n",
              "                                                link  \n",
              "0  http://techcrunch.com/2020/09/07/vodafone-idea...  \n",
              "1  http://techcrunch.com/2020/09/16/facebook-addr...  \n",
              "2  http://techcrunch.com/2020/09/14/youtube-launc...  \n",
              "3  http://techcrunch.com/2020/09/09/groww-an-inve...  \n",
              "4  http://techcrunch.com/2020/09/15/lanzatech-is-...  "
            ]
          },
          "execution_count": 23,
          "metadata": {},
          "output_type": "execute_result"
        }
      ],
      "source": [
        "ds.head()"
      ]
    },
    {
      "cell_type": "markdown",
      "metadata": {
        "id": "MqyYPz6KstFm"
      },
      "source": [
        "## Step 2: Encoding your data\n",
        "\n",
        "Term frequency–inverse document frequency (TF-IDF) encoding we will use the term frequency–inverse document frequency (TF-IDF) encoding scheme."
      ]
    },
    {
      "cell_type": "markdown",
      "metadata": {
        "id": "jLYk1S-estFo"
      },
      "source": [
        "\n",
        "The advantage of TF-IDF encoding is that it will weigh a term (a tag for a movie in our example) according to the importance of the term within the document: The more frequently the term appears, the larger its weight will be. At the same time, it weighs the item inversely to the frequency of this term across the entire dataset: It will emphasise terms that are relatively rare occurrences in the general dataset but of importance to the specific content at hand."
      ]
    },
    {
      "cell_type": "markdown",
      "metadata": {
        "id": "Nj4uvRzUstFo"
      },
      "source": [
        "## Importing Liberaries"
      ]
    },
    {
      "cell_type": "code",
      "execution_count": 24,
      "metadata": {
        "colab": {
          "base_uri": "https://localhost:8080/"
        },
        "execution": {
          "iopub.execute_input": "2024-06-29T06:19:42.416481Z",
          "iopub.status.busy": "2024-06-29T06:19:42.416062Z",
          "iopub.status.idle": "2024-06-29T06:19:44.36343Z",
          "shell.execute_reply": "2024-06-29T06:19:44.362115Z",
          "shell.execute_reply.started": "2024-06-29T06:19:42.416442Z"
        },
        "id": "coV2V7LmstFp",
        "outputId": "320e4c59-3009-44a2-ab3a-97d13655c22d",
        "trusted": true
      },
      "outputs": [
        {
          "name": "stderr",
          "output_type": "stream",
          "text": [
            "[nltk_data] Downloading package stopwords to\n",
            "[nltk_data]     C:\\Users\\shree\\AppData\\Roaming\\nltk_data...\n",
            "[nltk_data]   Package stopwords is already up-to-date!\n"
          ]
        }
      ],
      "source": [
        "from nltk.corpus import stopwords\n",
        "from sklearn.metrics.pairwise import linear_kernel\n",
        "from sklearn.feature_extraction.text import CountVectorizer\n",
        "from sklearn.feature_extraction.text import TfidfVectorizer\n",
        "from nltk.tokenize import RegexpTokenizer\n",
        "import nltk\n",
        "nltk.download('stopwords')\n",
        "import re\n",
        "import string\n",
        "import random"
      ]
    },
    {
      "cell_type": "markdown",
      "metadata": {
        "id": "Kdpmydq6stFq"
      },
      "source": [
        "## Applying all the functions in text column and storing as a cleaned_desc"
      ]
    },
    {
      "cell_type": "code",
      "execution_count": 25,
      "metadata": {
        "execution": {
          "iopub.execute_input": "2024-06-29T06:19:44.365502Z",
          "iopub.status.busy": "2024-06-29T06:19:44.364988Z",
          "iopub.status.idle": "2024-06-29T06:19:45.27716Z",
          "shell.execute_reply": "2024-06-29T06:19:45.27619Z",
          "shell.execute_reply.started": "2024-06-29T06:19:44.36545Z"
        },
        "id": "lU3xC_McstFq",
        "trusted": true
      },
      "outputs": [],
      "source": [
        "# Function for removing NonAscii characters\n",
        "#def _removeNonAscii(s):\n",
        "#    return \"\".join(i for i in s if  ord(i)<128)\n",
        "\n",
        "# Function for converting into lower case\n",
        "def make_lower_case(text):\n",
        "    return text.lower()\n",
        "\n",
        "# Function for removing stop words\n",
        "def remove_stop_words(text):\n",
        "    text = text.split()\n",
        "    stops = set(stopwords.words(\"english\"))\n",
        "    text = [w for w in text if not w in stops]\n",
        "    texts = [w for w in text if w.isalpha()]\n",
        "    texts = \" \".join(texts)\n",
        "    return texts\n",
        "\n",
        "# Function for removing punctuation\n",
        "def remove_punctuation(text):\n",
        "    tokenizer = RegexpTokenizer(r'\\w+')\n",
        "    text = tokenizer.tokenize(text)\n",
        "    text = \" \".join(text)\n",
        "    return text\n",
        "\n",
        "# Function for removing the html tags\n",
        "def remove_html(text):\n",
        "    html_pattern = re.compile('<.*?>')\n",
        "    return html_pattern.sub(r'', text)\n",
        "\n",
        "# Applying all the functions in description and storing as a cleaned_desc\n",
        "#ds['cleaned_desc'] = ds['text'].apply(_removeNonAscii)\n",
        "ds['cleaned_desc'] = ds['text'].apply(func = make_lower_case)\n",
        "ds['cleaned_desc'] = ds.cleaned_desc.apply(func = remove_stop_words)\n",
        "ds['cleaned_desc'] = ds.cleaned_desc.apply(func=remove_punctuation)\n",
        "ds['cleaned_desc'] = ds.cleaned_desc.apply(func=remove_html)"
      ]
    },
    {
      "cell_type": "code",
      "execution_count": 26,
      "metadata": {
        "execution": {
          "iopub.execute_input": "2024-06-29T06:19:45.279298Z",
          "iopub.status.busy": "2024-06-29T06:19:45.278802Z",
          "iopub.status.idle": "2024-06-29T06:19:50.650123Z",
          "shell.execute_reply": "2024-06-29T06:19:50.648935Z",
          "shell.execute_reply.started": "2024-06-29T06:19:45.279249Z"
        },
        "id": "jbg-nQ7KstFr",
        "trusted": true
      },
      "outputs": [],
      "source": [
        "import pandas as pd\n",
        "from sklearn.feature_extraction.text import TfidfVectorizer\n",
        "from sklearn.metrics.pairwise import linear_kernel\n",
        "\n",
        "## analyzer -- to select individual words# default\n",
        "## max_df[0.0,1.0] - used to ignore words with frequency more than 0.8 these words can be useless words as these words may appear only once and may not have a significant meaning\n",
        "## min_df -- similar reason as the above one.\n",
        "## use_idfbool, default=True  -- Enable inverse-document-frequency reweighting.\n",
        "\n",
        "tf = TfidfVectorizer(analyzer='word',stop_words='english',max_df=0.8,min_df=0.0,use_idf=True,ngram_range=(1,3))\n",
        "tfidf_matrix = tf.fit_transform(ds['cleaned_desc'])"
      ]
    },
    {
      "cell_type": "markdown",
      "metadata": {
        "id": "9W6nX1BSstFr"
      },
      "source": [
        "### This is how a tfidf vector looks like."
      ]
    },
    {
      "cell_type": "code",
      "execution_count": 27,
      "metadata": {
        "colab": {
          "base_uri": "https://localhost:8080/",
          "height": 478
        },
        "execution": {
          "iopub.execute_input": "2024-06-29T06:19:50.6522Z",
          "iopub.status.busy": "2024-06-29T06:19:50.651791Z",
          "iopub.status.idle": "2024-06-29T06:19:53.475142Z",
          "shell.execute_reply": "2024-06-29T06:19:53.474081Z",
          "shell.execute_reply.started": "2024-06-29T06:19:50.652146Z"
        },
        "id": "qzirnEZ9stFs",
        "outputId": "79d21726-e275-4847-cd58-3d20fd589f09",
        "trusted": true
      },
      "outputs": [
        {
          "data": {
            "text/html": [
              "<div>\n",
              "<style scoped>\n",
              "    .dataframe tbody tr th:only-of-type {\n",
              "        vertical-align: middle;\n",
              "    }\n",
              "\n",
              "    .dataframe tbody tr th {\n",
              "        vertical-align: top;\n",
              "    }\n",
              "\n",
              "    .dataframe thead th {\n",
              "        text-align: right;\n",
              "    }\n",
              "</style>\n",
              "<table border=\"1\" class=\"dataframe\">\n",
              "  <thead>\n",
              "    <tr style=\"text-align: right;\">\n",
              "      <th></th>\n",
              "      <th>aa</th>\n",
              "      <th>aa batteries</th>\n",
              "      <th>aa batteries set</th>\n",
              "      <th>aa lithium</th>\n",
              "      <th>aa lithium later</th>\n",
              "      <th>aaa</th>\n",
              "      <th>aaa affirmed</th>\n",
              "      <th>aaa affirmed shubhshree</th>\n",
              "      <th>aaa titles</th>\n",
              "      <th>aaa titles hard</th>\n",
              "      <th>...</th>\n",
              "      <th>zwift prides</th>\n",
              "      <th>zwift prides ability</th>\n",
              "      <th>zwift raised</th>\n",
              "      <th>zwift raised million</th>\n",
              "      <th>𝗺𝗼𝗻𝘁𝗵</th>\n",
              "      <th>𝗺𝗼𝗻𝘁𝗵 pandemic</th>\n",
              "      <th>𝗺𝗼𝗻𝘁𝗵 pandemic sustain</th>\n",
              "      <th>𝗽𝗲𝗿</th>\n",
              "      <th>𝗽𝗲𝗿 𝗺𝗼𝗻𝘁𝗵</th>\n",
              "      <th>𝗽𝗲𝗿 𝗺𝗼𝗻𝘁𝗵 pandemic</th>\n",
              "    </tr>\n",
              "  </thead>\n",
              "  <tbody>\n",
              "    <tr>\n",
              "      <th>0</th>\n",
              "      <td>0.0</td>\n",
              "      <td>0.0</td>\n",
              "      <td>0.0</td>\n",
              "      <td>0.0</td>\n",
              "      <td>0.0</td>\n",
              "      <td>0.0</td>\n",
              "      <td>0.0</td>\n",
              "      <td>0.0</td>\n",
              "      <td>0.0</td>\n",
              "      <td>0.0</td>\n",
              "      <td>...</td>\n",
              "      <td>0.0</td>\n",
              "      <td>0.0</td>\n",
              "      <td>0.0</td>\n",
              "      <td>0.0</td>\n",
              "      <td>0.0</td>\n",
              "      <td>0.0</td>\n",
              "      <td>0.0</td>\n",
              "      <td>0.0</td>\n",
              "      <td>0.0</td>\n",
              "      <td>0.0</td>\n",
              "    </tr>\n",
              "    <tr>\n",
              "      <th>1</th>\n",
              "      <td>0.0</td>\n",
              "      <td>0.0</td>\n",
              "      <td>0.0</td>\n",
              "      <td>0.0</td>\n",
              "      <td>0.0</td>\n",
              "      <td>0.0</td>\n",
              "      <td>0.0</td>\n",
              "      <td>0.0</td>\n",
              "      <td>0.0</td>\n",
              "      <td>0.0</td>\n",
              "      <td>...</td>\n",
              "      <td>0.0</td>\n",
              "      <td>0.0</td>\n",
              "      <td>0.0</td>\n",
              "      <td>0.0</td>\n",
              "      <td>0.0</td>\n",
              "      <td>0.0</td>\n",
              "      <td>0.0</td>\n",
              "      <td>0.0</td>\n",
              "      <td>0.0</td>\n",
              "      <td>0.0</td>\n",
              "    </tr>\n",
              "    <tr>\n",
              "      <th>2</th>\n",
              "      <td>0.0</td>\n",
              "      <td>0.0</td>\n",
              "      <td>0.0</td>\n",
              "      <td>0.0</td>\n",
              "      <td>0.0</td>\n",
              "      <td>0.0</td>\n",
              "      <td>0.0</td>\n",
              "      <td>0.0</td>\n",
              "      <td>0.0</td>\n",
              "      <td>0.0</td>\n",
              "      <td>...</td>\n",
              "      <td>0.0</td>\n",
              "      <td>0.0</td>\n",
              "      <td>0.0</td>\n",
              "      <td>0.0</td>\n",
              "      <td>0.0</td>\n",
              "      <td>0.0</td>\n",
              "      <td>0.0</td>\n",
              "      <td>0.0</td>\n",
              "      <td>0.0</td>\n",
              "      <td>0.0</td>\n",
              "    </tr>\n",
              "    <tr>\n",
              "      <th>3</th>\n",
              "      <td>0.0</td>\n",
              "      <td>0.0</td>\n",
              "      <td>0.0</td>\n",
              "      <td>0.0</td>\n",
              "      <td>0.0</td>\n",
              "      <td>0.0</td>\n",
              "      <td>0.0</td>\n",
              "      <td>0.0</td>\n",
              "      <td>0.0</td>\n",
              "      <td>0.0</td>\n",
              "      <td>...</td>\n",
              "      <td>0.0</td>\n",
              "      <td>0.0</td>\n",
              "      <td>0.0</td>\n",
              "      <td>0.0</td>\n",
              "      <td>0.0</td>\n",
              "      <td>0.0</td>\n",
              "      <td>0.0</td>\n",
              "      <td>0.0</td>\n",
              "      <td>0.0</td>\n",
              "      <td>0.0</td>\n",
              "    </tr>\n",
              "    <tr>\n",
              "      <th>4</th>\n",
              "      <td>0.0</td>\n",
              "      <td>0.0</td>\n",
              "      <td>0.0</td>\n",
              "      <td>0.0</td>\n",
              "      <td>0.0</td>\n",
              "      <td>0.0</td>\n",
              "      <td>0.0</td>\n",
              "      <td>0.0</td>\n",
              "      <td>0.0</td>\n",
              "      <td>0.0</td>\n",
              "      <td>...</td>\n",
              "      <td>0.0</td>\n",
              "      <td>0.0</td>\n",
              "      <td>0.0</td>\n",
              "      <td>0.0</td>\n",
              "      <td>0.0</td>\n",
              "      <td>0.0</td>\n",
              "      <td>0.0</td>\n",
              "      <td>0.0</td>\n",
              "      <td>0.0</td>\n",
              "      <td>0.0</td>\n",
              "    </tr>\n",
              "    <tr>\n",
              "      <th>...</th>\n",
              "      <td>...</td>\n",
              "      <td>...</td>\n",
              "      <td>...</td>\n",
              "      <td>...</td>\n",
              "      <td>...</td>\n",
              "      <td>...</td>\n",
              "      <td>...</td>\n",
              "      <td>...</td>\n",
              "      <td>...</td>\n",
              "      <td>...</td>\n",
              "      <td>...</td>\n",
              "      <td>...</td>\n",
              "      <td>...</td>\n",
              "      <td>...</td>\n",
              "      <td>...</td>\n",
              "      <td>...</td>\n",
              "      <td>...</td>\n",
              "      <td>...</td>\n",
              "      <td>...</td>\n",
              "      <td>...</td>\n",
              "      <td>...</td>\n",
              "    </tr>\n",
              "    <tr>\n",
              "      <th>1491</th>\n",
              "      <td>0.0</td>\n",
              "      <td>0.0</td>\n",
              "      <td>0.0</td>\n",
              "      <td>0.0</td>\n",
              "      <td>0.0</td>\n",
              "      <td>0.0</td>\n",
              "      <td>0.0</td>\n",
              "      <td>0.0</td>\n",
              "      <td>0.0</td>\n",
              "      <td>0.0</td>\n",
              "      <td>...</td>\n",
              "      <td>0.0</td>\n",
              "      <td>0.0</td>\n",
              "      <td>0.0</td>\n",
              "      <td>0.0</td>\n",
              "      <td>0.0</td>\n",
              "      <td>0.0</td>\n",
              "      <td>0.0</td>\n",
              "      <td>0.0</td>\n",
              "      <td>0.0</td>\n",
              "      <td>0.0</td>\n",
              "    </tr>\n",
              "    <tr>\n",
              "      <th>1492</th>\n",
              "      <td>0.0</td>\n",
              "      <td>0.0</td>\n",
              "      <td>0.0</td>\n",
              "      <td>0.0</td>\n",
              "      <td>0.0</td>\n",
              "      <td>0.0</td>\n",
              "      <td>0.0</td>\n",
              "      <td>0.0</td>\n",
              "      <td>0.0</td>\n",
              "      <td>0.0</td>\n",
              "      <td>...</td>\n",
              "      <td>0.0</td>\n",
              "      <td>0.0</td>\n",
              "      <td>0.0</td>\n",
              "      <td>0.0</td>\n",
              "      <td>0.0</td>\n",
              "      <td>0.0</td>\n",
              "      <td>0.0</td>\n",
              "      <td>0.0</td>\n",
              "      <td>0.0</td>\n",
              "      <td>0.0</td>\n",
              "    </tr>\n",
              "    <tr>\n",
              "      <th>1493</th>\n",
              "      <td>0.0</td>\n",
              "      <td>0.0</td>\n",
              "      <td>0.0</td>\n",
              "      <td>0.0</td>\n",
              "      <td>0.0</td>\n",
              "      <td>0.0</td>\n",
              "      <td>0.0</td>\n",
              "      <td>0.0</td>\n",
              "      <td>0.0</td>\n",
              "      <td>0.0</td>\n",
              "      <td>...</td>\n",
              "      <td>0.0</td>\n",
              "      <td>0.0</td>\n",
              "      <td>0.0</td>\n",
              "      <td>0.0</td>\n",
              "      <td>0.0</td>\n",
              "      <td>0.0</td>\n",
              "      <td>0.0</td>\n",
              "      <td>0.0</td>\n",
              "      <td>0.0</td>\n",
              "      <td>0.0</td>\n",
              "    </tr>\n",
              "    <tr>\n",
              "      <th>1494</th>\n",
              "      <td>0.0</td>\n",
              "      <td>0.0</td>\n",
              "      <td>0.0</td>\n",
              "      <td>0.0</td>\n",
              "      <td>0.0</td>\n",
              "      <td>0.0</td>\n",
              "      <td>0.0</td>\n",
              "      <td>0.0</td>\n",
              "      <td>0.0</td>\n",
              "      <td>0.0</td>\n",
              "      <td>...</td>\n",
              "      <td>0.0</td>\n",
              "      <td>0.0</td>\n",
              "      <td>0.0</td>\n",
              "      <td>0.0</td>\n",
              "      <td>0.0</td>\n",
              "      <td>0.0</td>\n",
              "      <td>0.0</td>\n",
              "      <td>0.0</td>\n",
              "      <td>0.0</td>\n",
              "      <td>0.0</td>\n",
              "    </tr>\n",
              "    <tr>\n",
              "      <th>1495</th>\n",
              "      <td>0.0</td>\n",
              "      <td>0.0</td>\n",
              "      <td>0.0</td>\n",
              "      <td>0.0</td>\n",
              "      <td>0.0</td>\n",
              "      <td>0.0</td>\n",
              "      <td>0.0</td>\n",
              "      <td>0.0</td>\n",
              "      <td>0.0</td>\n",
              "      <td>0.0</td>\n",
              "      <td>...</td>\n",
              "      <td>0.0</td>\n",
              "      <td>0.0</td>\n",
              "      <td>0.0</td>\n",
              "      <td>0.0</td>\n",
              "      <td>0.0</td>\n",
              "      <td>0.0</td>\n",
              "      <td>0.0</td>\n",
              "      <td>0.0</td>\n",
              "      <td>0.0</td>\n",
              "      <td>0.0</td>\n",
              "    </tr>\n",
              "  </tbody>\n",
              "</table>\n",
              "<p>1496 rows × 588777 columns</p>\n",
              "</div>"
            ],
            "text/plain": [
              "       aa  aa batteries  aa batteries set  aa lithium  aa lithium later  aaa  \\\n",
              "0     0.0           0.0               0.0         0.0               0.0  0.0   \n",
              "1     0.0           0.0               0.0         0.0               0.0  0.0   \n",
              "2     0.0           0.0               0.0         0.0               0.0  0.0   \n",
              "3     0.0           0.0               0.0         0.0               0.0  0.0   \n",
              "4     0.0           0.0               0.0         0.0               0.0  0.0   \n",
              "...   ...           ...               ...         ...               ...  ...   \n",
              "1491  0.0           0.0               0.0         0.0               0.0  0.0   \n",
              "1492  0.0           0.0               0.0         0.0               0.0  0.0   \n",
              "1493  0.0           0.0               0.0         0.0               0.0  0.0   \n",
              "1494  0.0           0.0               0.0         0.0               0.0  0.0   \n",
              "1495  0.0           0.0               0.0         0.0               0.0  0.0   \n",
              "\n",
              "      aaa affirmed  aaa affirmed shubhshree  aaa titles  aaa titles hard  ...  \\\n",
              "0              0.0                      0.0         0.0              0.0  ...   \n",
              "1              0.0                      0.0         0.0              0.0  ...   \n",
              "2              0.0                      0.0         0.0              0.0  ...   \n",
              "3              0.0                      0.0         0.0              0.0  ...   \n",
              "4              0.0                      0.0         0.0              0.0  ...   \n",
              "...            ...                      ...         ...              ...  ...   \n",
              "1491           0.0                      0.0         0.0              0.0  ...   \n",
              "1492           0.0                      0.0         0.0              0.0  ...   \n",
              "1493           0.0                      0.0         0.0              0.0  ...   \n",
              "1494           0.0                      0.0         0.0              0.0  ...   \n",
              "1495           0.0                      0.0         0.0              0.0  ...   \n",
              "\n",
              "      zwift prides  zwift prides ability  zwift raised  zwift raised million  \\\n",
              "0              0.0                   0.0           0.0                   0.0   \n",
              "1              0.0                   0.0           0.0                   0.0   \n",
              "2              0.0                   0.0           0.0                   0.0   \n",
              "3              0.0                   0.0           0.0                   0.0   \n",
              "4              0.0                   0.0           0.0                   0.0   \n",
              "...            ...                   ...           ...                   ...   \n",
              "1491           0.0                   0.0           0.0                   0.0   \n",
              "1492           0.0                   0.0           0.0                   0.0   \n",
              "1493           0.0                   0.0           0.0                   0.0   \n",
              "1494           0.0                   0.0           0.0                   0.0   \n",
              "1495           0.0                   0.0           0.0                   0.0   \n",
              "\n",
              "      𝗺𝗼𝗻𝘁𝗵  𝗺𝗼𝗻𝘁𝗵 pandemic  𝗺𝗼𝗻𝘁𝗵 pandemic sustain  𝗽𝗲𝗿  𝗽𝗲𝗿 𝗺𝗼𝗻𝘁𝗵  \\\n",
              "0       0.0             0.0                     0.0  0.0        0.0   \n",
              "1       0.0             0.0                     0.0  0.0        0.0   \n",
              "2       0.0             0.0                     0.0  0.0        0.0   \n",
              "3       0.0             0.0                     0.0  0.0        0.0   \n",
              "4       0.0             0.0                     0.0  0.0        0.0   \n",
              "...     ...             ...                     ...  ...        ...   \n",
              "1491    0.0             0.0                     0.0  0.0        0.0   \n",
              "1492    0.0             0.0                     0.0  0.0        0.0   \n",
              "1493    0.0             0.0                     0.0  0.0        0.0   \n",
              "1494    0.0             0.0                     0.0  0.0        0.0   \n",
              "1495    0.0             0.0                     0.0  0.0        0.0   \n",
              "\n",
              "      𝗽𝗲𝗿 𝗺𝗼𝗻𝘁𝗵 pandemic  \n",
              "0                    0.0  \n",
              "1                    0.0  \n",
              "2                    0.0  \n",
              "3                    0.0  \n",
              "4                    0.0  \n",
              "...                  ...  \n",
              "1491                 0.0  \n",
              "1492                 0.0  \n",
              "1493                 0.0  \n",
              "1494                 0.0  \n",
              "1495                 0.0  \n",
              "\n",
              "[1496 rows x 588777 columns]"
            ]
          },
          "execution_count": 27,
          "metadata": {},
          "output_type": "execute_result"
        }
      ],
      "source": [
        "pd.DataFrame(tfidf_matrix.toarray(), columns=tf.get_feature_names_out())"
      ]
    },
    {
      "cell_type": "markdown",
      "metadata": {
        "id": "lEoafIGIstFt"
      },
      "source": [
        "<i>Now, we have a representation of every item in terms of its description. Next, we need to calculate the relevance or similarity of one document to another.</i>"
      ]
    },
    {
      "cell_type": "markdown",
      "metadata": {
        "id": "UGhbV7qcstFu"
      },
      "source": [
        "## Vector Space Model\n",
        "In this model, each item is stored as a vector of its attributes (which are also vectors) in an n-dimensional space, and the angles between the vectors are calculated to determine the similarity between the vectors.\n"
      ]
    },
    {
      "cell_type": "markdown",
      "metadata": {
        "id": "mIvGfLATstFv"
      },
      "source": [
        "* The method of calculating the user’s likes / dislikes / measures is calculated by taking the cosine of the angle between the user profile vector (Ui ) and the document vector; or in our case, the angle between two document vectors.\n",
        "* The ultimate reason behind using cosine is that the value of cosine will increase as the angle between vectors with decreases, which signifies more similarity."
      ]
    },
    {
      "cell_type": "code",
      "execution_count": 28,
      "metadata": {
        "execution": {
          "iopub.execute_input": "2024-06-29T06:19:53.477457Z",
          "iopub.status.busy": "2024-06-29T06:19:53.476944Z",
          "iopub.status.idle": "2024-06-29T06:19:53.849017Z",
          "shell.execute_reply": "2024-06-29T06:19:53.847914Z",
          "shell.execute_reply.started": "2024-06-29T06:19:53.477394Z"
        },
        "id": "0DVx8phestFw",
        "trusted": true
      },
      "outputs": [],
      "source": [
        "cosine_similarities = linear_kernel(tfidf_matrix, tfidf_matrix)"
      ]
    },
    {
      "cell_type": "code",
      "execution_count": 22,
      "metadata": {},
      "outputs": [],
      "source": [
        "ds.to_csv('../data/processed_data.csv', index=False)"
      ]
    },
    {
      "cell_type": "code",
      "execution_count": 48,
      "metadata": {
        "_kg_hide-input": true,
        "_kg_hide-output": true,
        "colab": {
          "base_uri": "https://localhost:8080/"
        },
        "execution": {
          "iopub.execute_input": "2024-06-29T06:23:01.479262Z",
          "iopub.status.busy": "2024-06-29T06:23:01.478823Z",
          "iopub.status.idle": "2024-06-29T06:23:01.487644Z",
          "shell.execute_reply": "2024-06-29T06:23:01.48623Z",
          "shell.execute_reply.started": "2024-06-29T06:23:01.479217Z"
        },
        "id": "igKi1HEastFz",
        "outputId": "ce6bcd81-2ce4-467c-e7a9-f645ad17ee2e",
        "trusted": true
      },
      "outputs": [],
      "source": [
        "cosine_similarities\n",
        "np.save('../data/cosine_similarities.npy', cosine_similarities)"
      ]
    },
    {
      "cell_type": "markdown",
      "metadata": {
        "id": "JS6wO6MestFz"
      },
      "source": [
        "A recommender system has to decide between two methods for information delivery when providing the user with recommendations:\n",
        "* Exploitation. The system chooses documents similar to those for which the user has already expressed a preference.\n",
        "* Exploration. The system chooses documents where the user profile does not provide evidence to predict the user’s reaction.<br><br>\n",
        "<b>We are going to use <u>Exploitation method </u></b>"
      ]
    },
    {
      "cell_type": "code",
      "execution_count": 49,
      "metadata": {
        "execution": {
          "iopub.execute_input": "2024-06-29T06:23:32.393529Z",
          "iopub.status.busy": "2024-06-29T06:23:32.393115Z",
          "iopub.status.idle": "2024-06-29T06:23:32.406716Z",
          "shell.execute_reply": "2024-06-29T06:23:32.405376Z",
          "shell.execute_reply.started": "2024-06-29T06:23:32.393495Z"
        },
        "id": "sULxjpSHstF0",
        "trusted": true
      },
      "outputs": [],
      "source": [
        "def recomendation(idx,no_of_news_article):\n",
        "    #get similarity values with other articles\n",
        "    similarity_score = list(enumerate(cosine_similarities[idx]))\n",
        "    similarity_score = sorted(similarity_score, key=lambda x: x[1], reverse=True)\n",
        "    # Get the scores of the n most similar news articles. Ignore the first movie.\n",
        "    similarity_score = similarity_score[1:no_of_news_article+1]\n",
        "\n",
        "    print(\"Article Read -- \" + ds['title'].iloc[idx] +\" link --\"+ ds['link'].iloc[idx])\n",
        "    print(\" ---------------------------------------------------------- \")\n",
        "    news_indices = [i[0] for i in similarity_score]\n",
        "    for i in range(len(news_indices)):\n",
        "        print(\"Recomendation \"+ str(i+1)+\" --- \" +str(news_indices[i])+\"(IDX)  \"+str(ds['date'].iloc[news_indices[i]])+\" : \"+\n",
        "              ds['title'].iloc[news_indices[i]] +\" || Link --\"+ ds['link'].iloc[news_indices[i]] +\" score -- \"+ str(similarity_score[i][1]))\n",
        "        print()"
      ]
    },
    {
      "cell_type": "markdown",
      "metadata": {
        "id": "jazXfQdXstF0"
      },
      "source": [
        "## Test 1 - when min_df=0.2 shape 1496 rows × 31 columns"
      ]
    },
    {
      "cell_type": "code",
      "execution_count": 50,
      "metadata": {
        "colab": {
          "base_uri": "https://localhost:8080/"
        },
        "execution": {
          "iopub.execute_input": "2024-06-29T06:23:36.426603Z",
          "iopub.status.busy": "2024-06-29T06:23:36.42615Z",
          "iopub.status.idle": "2024-06-29T06:23:36.438123Z",
          "shell.execute_reply": "2024-06-29T06:23:36.436606Z",
          "shell.execute_reply.started": "2024-06-29T06:23:36.426564Z"
        },
        "id": "aYA0r9RYstF1",
        "outputId": "555891f8-d8ea-4e84-d31d-b66c6aea3e05",
        "trusted": true
      },
      "outputs": [
        {
          "name": "stdout",
          "output_type": "stream",
          "text": [
            "Article Read -- Groww, an investment app for millennials in India, raises $30M led by YC Continuity – TechCrunch link --http://techcrunch.com/2020/09/09/groww-an-investment-app-for-millennials-in-india-raises-30m-led-by-yc-continuity/\n",
            " ---------------------------------------------------------- \n",
            "Recomendation 1 --- 176(IDX)  2020-09-02 00:00:00 : 3one4 Capital launches $100M fund to back early-stage startups in India – TechCrunch || Link --http://techcrunch.com/2020/09/02/3one4-capital-launches-100m-fund-to-back-early-stage-startups-in-india/ score -- 0.05712325226508275\n",
            "\n",
            "Recomendation 2 --- 9(IDX)  2020-09-07 00:00:00 : Silver Lake leads $500 million investment round in Indian online learning giant Byju’s – TechCrunch || Link --http://techcrunch.com/2020/09/07/silver-lake-leads-500-million-round-in-indias-byjus/ score -- 0.05012420506583761\n",
            "\n",
            "Recomendation 3 --- 7(IDX)  2020-09-15 00:00:00 : Virtual events platform Airmeet raises $12M – TechCrunch || Link --http://techcrunch.com/2020/09/15/virtual-events-platform-airmeet-raises-12m/ score -- 0.04860331628063669\n",
            "\n",
            "Recomendation 4 --- 1(IDX)  2020-09-16 00:00:00 : Facebook addresses political controversy in India, monetization opportunities, startup investments – TechCrunch || Link --http://techcrunch.com/2020/09/16/facebook-addresses-political-controversy-in-india-monetization-opportunities-startup-investments/ score -- 0.04808100864680237\n",
            "\n",
            "Recomendation 5 --- 11(IDX)  2020-09-08 00:00:00 : Ambani’s Reliance Retail to raise $1 billion from Silver Lake – TechCrunch || Link --http://techcrunch.com/2020/09/08/reliance-retail-to-raise-1-billion-from-silver-lake/ score -- 0.04661801280603926\n",
            "\n",
            "Recomendation 6 --- 8(IDX)  2020-09-15 00:00:00 : Indian decacorn Byju’s CEO talks about future acquisitions, coronavirus and international expansion – TechCrunch || Link --http://techcrunch.com/2020/09/15/indian-decacorn-byjus-ceo-talks-about-future-acquisitions-coronavirus-and-international-expansion/ score -- 0.042400529328422434\n",
            "\n",
            "Recomendation 7 --- 97(IDX)  2020-08-25 00:00:00 : Here are the 94 companies from Y Combinator’s Summer 2020 Demo Day 2 – TechCrunch || Link --http://techcrunch.com/2020/08/25/here-are-the-94-companies-from-y-combinators-summer-2020-demo-day-2/ score -- 0.04143247655591229\n",
            "\n",
            "Recomendation 8 --- 178(IDX)  2020-08-31 00:00:00 : Chan Zuckerberg Initiative backs Indian education startup Eruditus in $113 million fundraise – TechCrunch || Link --http://techcrunch.com/2020/08/31/chan-zuckerberg-initiative-backs-indian-education-startup-eruditus-in-113-million-fundraise/ score -- 0.03992847727516041\n",
            "\n",
            "Recomendation 9 --- 564(IDX)  2020-09-11 00:00:00 : 10 Poland-based investors discuss trends, opportunities and the road ahead – TechCrunch || Link --http://techcrunch.com/2020/09/11/10-poland-based-investors-discuss-trends-opportunities-and-the-road-ahead/ score -- 0.03961769704900855\n",
            "\n",
            "Recomendation 10 --- 720(IDX)  2020-08-27 00:00:00 : Here’s how you can get a second shot at Startup Battlefield – TechCrunch || Link --http://techcrunch.com/2020/08/27/heres-how-you-can-get-a-second-shot-at-startup-battlefield/ score -- 0.03781986356587582\n",
            "\n"
          ]
        }
      ],
      "source": [
        "idx=3  #min_df=0.2 shape 1496 rows × 31 columns\n",
        "no_of_news_article=10\n",
        "recomendation(idx,no_of_news_article)"
      ]
    },
    {
      "cell_type": "markdown",
      "metadata": {
        "id": "W3n0OStzstF1"
      },
      "source": [
        "## Test 2 - when min_df=0.1 shape 1496 rows × 144 columns"
      ]
    },
    {
      "cell_type": "code",
      "execution_count": 51,
      "metadata": {
        "colab": {
          "base_uri": "https://localhost:8080/"
        },
        "execution": {
          "iopub.status.busy": "2024-06-29T06:19:54.065925Z",
          "iopub.status.idle": "2024-06-29T06:19:54.066518Z"
        },
        "id": "hRnl8tF7stF2",
        "outputId": "a7299ac9-c47d-4c09-d255-82f25092dd93",
        "trusted": true
      },
      "outputs": [
        {
          "name": "stdout",
          "output_type": "stream",
          "text": [
            "Article Read -- Groww, an investment app for millennials in India, raises $30M led by YC Continuity – TechCrunch link --http://techcrunch.com/2020/09/09/groww-an-investment-app-for-millennials-in-india-raises-30m-led-by-yc-continuity/\n",
            " ---------------------------------------------------------- \n",
            "Recomendation 1 --- 176(IDX)  2020-09-02 00:00:00 : 3one4 Capital launches $100M fund to back early-stage startups in India – TechCrunch || Link --http://techcrunch.com/2020/09/02/3one4-capital-launches-100m-fund-to-back-early-stage-startups-in-india/ score -- 0.05712325226508275\n",
            "\n",
            "Recomendation 2 --- 9(IDX)  2020-09-07 00:00:00 : Silver Lake leads $500 million investment round in Indian online learning giant Byju’s – TechCrunch || Link --http://techcrunch.com/2020/09/07/silver-lake-leads-500-million-round-in-indias-byjus/ score -- 0.05012420506583761\n",
            "\n",
            "Recomendation 3 --- 7(IDX)  2020-09-15 00:00:00 : Virtual events platform Airmeet raises $12M – TechCrunch || Link --http://techcrunch.com/2020/09/15/virtual-events-platform-airmeet-raises-12m/ score -- 0.04860331628063669\n",
            "\n",
            "Recomendation 4 --- 1(IDX)  2020-09-16 00:00:00 : Facebook addresses political controversy in India, monetization opportunities, startup investments – TechCrunch || Link --http://techcrunch.com/2020/09/16/facebook-addresses-political-controversy-in-india-monetization-opportunities-startup-investments/ score -- 0.04808100864680237\n",
            "\n",
            "Recomendation 5 --- 11(IDX)  2020-09-08 00:00:00 : Ambani’s Reliance Retail to raise $1 billion from Silver Lake – TechCrunch || Link --http://techcrunch.com/2020/09/08/reliance-retail-to-raise-1-billion-from-silver-lake/ score -- 0.04661801280603926\n",
            "\n",
            "Recomendation 6 --- 8(IDX)  2020-09-15 00:00:00 : Indian decacorn Byju’s CEO talks about future acquisitions, coronavirus and international expansion – TechCrunch || Link --http://techcrunch.com/2020/09/15/indian-decacorn-byjus-ceo-talks-about-future-acquisitions-coronavirus-and-international-expansion/ score -- 0.042400529328422434\n",
            "\n",
            "Recomendation 7 --- 97(IDX)  2020-08-25 00:00:00 : Here are the 94 companies from Y Combinator’s Summer 2020 Demo Day 2 – TechCrunch || Link --http://techcrunch.com/2020/08/25/here-are-the-94-companies-from-y-combinators-summer-2020-demo-day-2/ score -- 0.04143247655591229\n",
            "\n",
            "Recomendation 8 --- 178(IDX)  2020-08-31 00:00:00 : Chan Zuckerberg Initiative backs Indian education startup Eruditus in $113 million fundraise – TechCrunch || Link --http://techcrunch.com/2020/08/31/chan-zuckerberg-initiative-backs-indian-education-startup-eruditus-in-113-million-fundraise/ score -- 0.03992847727516041\n",
            "\n",
            "Recomendation 9 --- 564(IDX)  2020-09-11 00:00:00 : 10 Poland-based investors discuss trends, opportunities and the road ahead – TechCrunch || Link --http://techcrunch.com/2020/09/11/10-poland-based-investors-discuss-trends-opportunities-and-the-road-ahead/ score -- 0.03961769704900855\n",
            "\n",
            "Recomendation 10 --- 720(IDX)  2020-08-27 00:00:00 : Here’s how you can get a second shot at Startup Battlefield – TechCrunch || Link --http://techcrunch.com/2020/08/27/heres-how-you-can-get-a-second-shot-at-startup-battlefield/ score -- 0.03781986356587582\n",
            "\n"
          ]
        }
      ],
      "source": [
        "idx=3   #min_df=0.1  shape 1496 rows × 144 columns\n",
        "no_of_news_article=10\n",
        "recomendation(idx,no_of_news_article)"
      ]
    },
    {
      "cell_type": "markdown",
      "metadata": {
        "id": "IH4X2Nw5stF2"
      },
      "source": [
        "## Test 3 - when min_df=0.0 shape 1496 rows × 588777 columns"
      ]
    },
    {
      "cell_type": "code",
      "execution_count": 52,
      "metadata": {
        "colab": {
          "base_uri": "https://localhost:8080/"
        },
        "execution": {
          "iopub.status.busy": "2024-06-29T06:19:54.067875Z",
          "iopub.status.idle": "2024-06-29T06:19:54.068446Z"
        },
        "id": "HfUO7xkistF2",
        "outputId": "f1d86ed7-f56c-4b9e-a023-1219a550f91b",
        "trusted": true
      },
      "outputs": [
        {
          "name": "stdout",
          "output_type": "stream",
          "text": [
            "Article Read -- Groww, an investment app for millennials in India, raises $30M led by YC Continuity – TechCrunch link --http://techcrunch.com/2020/09/09/groww-an-investment-app-for-millennials-in-india-raises-30m-led-by-yc-continuity/\n",
            " ---------------------------------------------------------- \n",
            "Recomendation 1 --- 176(IDX)  2020-09-02 00:00:00 : 3one4 Capital launches $100M fund to back early-stage startups in India – TechCrunch || Link --http://techcrunch.com/2020/09/02/3one4-capital-launches-100m-fund-to-back-early-stage-startups-in-india/ score -- 0.05712325226508275\n",
            "\n",
            "Recomendation 2 --- 9(IDX)  2020-09-07 00:00:00 : Silver Lake leads $500 million investment round in Indian online learning giant Byju’s – TechCrunch || Link --http://techcrunch.com/2020/09/07/silver-lake-leads-500-million-round-in-indias-byjus/ score -- 0.05012420506583761\n",
            "\n",
            "Recomendation 3 --- 7(IDX)  2020-09-15 00:00:00 : Virtual events platform Airmeet raises $12M – TechCrunch || Link --http://techcrunch.com/2020/09/15/virtual-events-platform-airmeet-raises-12m/ score -- 0.04860331628063669\n",
            "\n",
            "Recomendation 4 --- 1(IDX)  2020-09-16 00:00:00 : Facebook addresses political controversy in India, monetization opportunities, startup investments – TechCrunch || Link --http://techcrunch.com/2020/09/16/facebook-addresses-political-controversy-in-india-monetization-opportunities-startup-investments/ score -- 0.04808100864680237\n",
            "\n",
            "Recomendation 5 --- 11(IDX)  2020-09-08 00:00:00 : Ambani’s Reliance Retail to raise $1 billion from Silver Lake – TechCrunch || Link --http://techcrunch.com/2020/09/08/reliance-retail-to-raise-1-billion-from-silver-lake/ score -- 0.04661801280603926\n",
            "\n",
            "Recomendation 6 --- 8(IDX)  2020-09-15 00:00:00 : Indian decacorn Byju’s CEO talks about future acquisitions, coronavirus and international expansion – TechCrunch || Link --http://techcrunch.com/2020/09/15/indian-decacorn-byjus-ceo-talks-about-future-acquisitions-coronavirus-and-international-expansion/ score -- 0.042400529328422434\n",
            "\n",
            "Recomendation 7 --- 97(IDX)  2020-08-25 00:00:00 : Here are the 94 companies from Y Combinator’s Summer 2020 Demo Day 2 – TechCrunch || Link --http://techcrunch.com/2020/08/25/here-are-the-94-companies-from-y-combinators-summer-2020-demo-day-2/ score -- 0.04143247655591229\n",
            "\n",
            "Recomendation 8 --- 178(IDX)  2020-08-31 00:00:00 : Chan Zuckerberg Initiative backs Indian education startup Eruditus in $113 million fundraise – TechCrunch || Link --http://techcrunch.com/2020/08/31/chan-zuckerberg-initiative-backs-indian-education-startup-eruditus-in-113-million-fundraise/ score -- 0.03992847727516041\n",
            "\n",
            "Recomendation 9 --- 564(IDX)  2020-09-11 00:00:00 : 10 Poland-based investors discuss trends, opportunities and the road ahead – TechCrunch || Link --http://techcrunch.com/2020/09/11/10-poland-based-investors-discuss-trends-opportunities-and-the-road-ahead/ score -- 0.03961769704900855\n",
            "\n",
            "Recomendation 10 --- 720(IDX)  2020-08-27 00:00:00 : Here’s how you can get a second shot at Startup Battlefield – TechCrunch || Link --http://techcrunch.com/2020/08/27/heres-how-you-can-get-a-second-shot-at-startup-battlefield/ score -- 0.03781986356587582\n",
            "\n"
          ]
        }
      ],
      "source": [
        "idx=3  #min_df=0.0 shape 1496 rows × 588777 columns\n",
        "no_of_news_article=10\n",
        "recomendation(idx,no_of_news_article)"
      ]
    },
    {
      "cell_type": "markdown",
      "metadata": {
        "id": "T8lgjvcNstF3"
      },
      "source": [
        "So When the size of the corpous is very large the similarity score decreases but predicitions are much better. And the score decreses because of regulersation there for nid_df - 0.0 was better in this case.\n",
        "However this is not true every time."
      ]
    },
    {
      "cell_type": "markdown",
      "metadata": {
        "id": "1VIbYoH5stF5"
      },
      "source": [
        "##### So what have we done till now --\n",
        "* We have implemented vector space method to map the documents where the tfidf -> first maps doc X words matrix ..\n",
        "* Then  we have found cosine similarity between the documents similar to  Singular Vector Decomposition where we have found the relation of documents with other's on the bases of text the other documents have and recommended the top n articles he may like"
      ]
    }
  ],
  "metadata": {
    "colab": {
      "name": "Content based News Recomender System 💻📸🎥",
      "provenance": []
    },
    "kaggle": {
      "accelerator": "none",
      "dataSources": [
        {
          "datasetId": 879591,
          "sourceId": 1497408,
          "sourceType": "datasetVersion"
        }
      ],
      "dockerImageVersionId": 30008,
      "isGpuEnabled": false,
      "isInternetEnabled": false,
      "language": "python",
      "sourceType": "notebook"
    },
    "kernelspec": {
      "display_name": "Python 3",
      "language": "python",
      "name": "python3"
    },
    "language_info": {
      "codemirror_mode": {
        "name": "ipython",
        "version": 3
      },
      "file_extension": ".py",
      "mimetype": "text/x-python",
      "name": "python",
      "nbconvert_exporter": "python",
      "pygments_lexer": "ipython3",
      "version": "3.12.4"
    }
  },
  "nbformat": 4,
  "nbformat_minor": 0
}
