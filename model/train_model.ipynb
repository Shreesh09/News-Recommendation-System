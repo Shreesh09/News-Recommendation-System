{
  "cells": [
    {
      "cell_type": "code",
      "execution_count": 1,
      "metadata": {},
      "outputs": [
        {
          "name": "stdout",
          "output_type": "stream",
          "text": [
            "Requirement already satisfied: kaggle in c:\\code\\news recommendation system\\myenv\\lib\\site-packages (1.6.14)\n",
            "Requirement already satisfied: six>=1.10 in c:\\code\\news recommendation system\\myenv\\lib\\site-packages (from kaggle) (1.16.0)\n",
            "Requirement already satisfied: certifi>=2023.7.22 in c:\\code\\news recommendation system\\myenv\\lib\\site-packages (from kaggle) (2024.6.2)\n",
            "Requirement already satisfied: python-dateutil in c:\\code\\news recommendation system\\myenv\\lib\\site-packages (from kaggle) (2.9.0.post0)\n",
            "Requirement already satisfied: requests in c:\\code\\news recommendation system\\myenv\\lib\\site-packages (from kaggle) (2.32.3)\n",
            "Requirement already satisfied: tqdm in c:\\code\\news recommendation system\\myenv\\lib\\site-packages (from kaggle) (4.66.4)\n",
            "Requirement already satisfied: python-slugify in c:\\code\\news recommendation system\\myenv\\lib\\site-packages (from kaggle) (8.0.4)\n",
            "Requirement already satisfied: urllib3 in c:\\code\\news recommendation system\\myenv\\lib\\site-packages (from kaggle) (2.2.2)\n",
            "Requirement already satisfied: bleach in c:\\code\\news recommendation system\\myenv\\lib\\site-packages (from kaggle) (6.1.0)\n",
            "Requirement already satisfied: webencodings in c:\\code\\news recommendation system\\myenv\\lib\\site-packages (from bleach->kaggle) (0.5.1)\n",
            "Requirement already satisfied: text-unidecode>=1.3 in c:\\code\\news recommendation system\\myenv\\lib\\site-packages (from python-slugify->kaggle) (1.3)\n",
            "Requirement already satisfied: charset-normalizer<4,>=2 in c:\\code\\news recommendation system\\myenv\\lib\\site-packages (from requests->kaggle) (3.3.2)\n",
            "Requirement already satisfied: idna<4,>=2.5 in c:\\code\\news recommendation system\\myenv\\lib\\site-packages (from requests->kaggle) (3.7)\n",
            "Requirement already satisfied: colorama in c:\\code\\news recommendation system\\myenv\\lib\\site-packages (from tqdm->kaggle) (0.4.6)\n",
            "Dataset URL: https://www.kaggle.com/datasets/gpreda/bbc-news\n",
            "License(s): CC0-1.0\n",
            "Downloading bbc-news.zip to c:\\Code\\News Recommendation System\\model\n",
            "... resuming from 3255153 bytes (13687 bytes left) ...\n",
            "\n"
          ]
        },
        {
          "name": "stderr",
          "output_type": "stream",
          "text": [
            "\n",
            "100%|█████████▉| 3.10M/3.12M [00:00<?, ?B/s]\n",
            "100%|██████████| 3.12M/3.12M [00:00<00:00, 3.55MB/s]\n"
          ]
        }
      ],
      "source": [
        "! pip install kaggle\n",
        "! kaggle datasets download gpreda/bbc-news"
      ]
    },
    {
      "cell_type": "code",
      "execution_count": 2,
      "metadata": {
        "_cell_guid": "79c7e3d0-c299-4dcb-8224-4455121ee9b0",
        "_kg_hide-input": true,
        "_kg_hide-output": true,
        "_uuid": "d629ff2d2480ee46fbb7e2d37f6b5fab8052498a",
        "execution": {
          "iopub.execute_input": "2024-06-29T06:19:41.672913Z",
          "iopub.status.busy": "2024-06-29T06:19:41.672402Z",
          "iopub.status.idle": "2024-06-29T06:19:41.681308Z",
          "shell.execute_reply": "2024-06-29T06:19:41.680117Z",
          "shell.execute_reply.started": "2024-06-29T06:19:41.672827Z"
        },
        "id": "-3C5DDIgstFW",
        "trusted": true
      },
      "outputs": [],
      "source": [
        "import numpy as np\n",
        "import pandas as pd\n",
        "import matplotlib.pyplot as plt"
      ]
    },
    {
      "cell_type": "markdown",
      "metadata": {
        "id": "1NzgZIFrstFX"
      },
      "source": [
        "### Step 1: Choosing your data\n"
      ]
    },
    {
      "cell_type": "code",
      "execution_count": 3,
      "metadata": {
        "execution": {
          "iopub.execute_input": "2024-06-29T06:19:41.694479Z",
          "iopub.status.busy": "2024-06-29T06:19:41.694033Z",
          "iopub.status.idle": "2024-06-29T06:19:42.123548Z",
          "shell.execute_reply": "2024-06-29T06:19:42.12257Z",
          "shell.execute_reply.started": "2024-06-29T06:19:41.69444Z"
        },
        "id": "8IboT8t7stFY",
        "trusted": true
      },
      "outputs": [],
      "source": [
        "data = pd.read_csv('bbc-news/bbc_news.csv')"
      ]
    },
    {
      "cell_type": "code",
      "execution_count": 4,
      "metadata": {
        "colab": {
          "base_uri": "https://localhost:8080/"
        },
        "execution": {
          "iopub.execute_input": "2024-06-29T06:19:42.127269Z",
          "iopub.status.busy": "2024-06-29T06:19:42.126703Z",
          "iopub.status.idle": "2024-06-29T06:19:42.137345Z",
          "shell.execute_reply": "2024-06-29T06:19:42.136139Z",
          "shell.execute_reply.started": "2024-06-29T06:19:42.12721Z"
        },
        "id": "kEuqHR40stFa",
        "outputId": "6508ba14-8b52-470a-a512-4c9c909de33c",
        "trusted": true
      },
      "outputs": [
        {
          "data": {
            "text/plain": [
              "(35812, 5)"
            ]
          },
          "execution_count": 4,
          "metadata": {},
          "output_type": "execute_result"
        }
      ],
      "source": [
        "data.shape"
      ]
    },
    {
      "cell_type": "code",
      "execution_count": 5,
      "metadata": {
        "colab": {
          "base_uri": "https://localhost:8080/",
          "height": 675
        },
        "execution": {
          "iopub.execute_input": "2024-06-29T06:19:42.139277Z",
          "iopub.status.busy": "2024-06-29T06:19:42.138877Z",
          "iopub.status.idle": "2024-06-29T06:19:42.172934Z",
          "shell.execute_reply": "2024-06-29T06:19:42.171318Z",
          "shell.execute_reply.started": "2024-06-29T06:19:42.139238Z"
        },
        "id": "ov-S8-HNstFb",
        "outputId": "bad3a5d7-d729-4409-c1b3-126247badaf2",
        "trusted": true
      },
      "outputs": [
        {
          "data": {
            "text/html": [
              "<div>\n",
              "<style scoped>\n",
              "    .dataframe tbody tr th:only-of-type {\n",
              "        vertical-align: middle;\n",
              "    }\n",
              "\n",
              "    .dataframe tbody tr th {\n",
              "        vertical-align: top;\n",
              "    }\n",
              "\n",
              "    .dataframe thead th {\n",
              "        text-align: right;\n",
              "    }\n",
              "</style>\n",
              "<table border=\"1\" class=\"dataframe\">\n",
              "  <thead>\n",
              "    <tr style=\"text-align: right;\">\n",
              "      <th></th>\n",
              "      <th>title</th>\n",
              "      <th>pubDate</th>\n",
              "      <th>guid</th>\n",
              "      <th>link</th>\n",
              "      <th>description</th>\n",
              "    </tr>\n",
              "  </thead>\n",
              "  <tbody>\n",
              "    <tr>\n",
              "      <th>0</th>\n",
              "      <td>Ukraine: Angry Zelensky vows to punish Russian...</td>\n",
              "      <td>Mon, 07 Mar 2022 08:01:56 GMT</td>\n",
              "      <td>https://www.bbc.co.uk/news/world-europe-60638042</td>\n",
              "      <td>https://www.bbc.co.uk/news/world-europe-606380...</td>\n",
              "      <td>The Ukrainian president says the country will ...</td>\n",
              "    </tr>\n",
              "    <tr>\n",
              "      <th>1</th>\n",
              "      <td>War in Ukraine: Taking cover in a town under a...</td>\n",
              "      <td>Sun, 06 Mar 2022 22:49:58 GMT</td>\n",
              "      <td>https://www.bbc.co.uk/news/world-europe-60641873</td>\n",
              "      <td>https://www.bbc.co.uk/news/world-europe-606418...</td>\n",
              "      <td>Jeremy Bowen was on the frontline in Irpin, as...</td>\n",
              "    </tr>\n",
              "    <tr>\n",
              "      <th>2</th>\n",
              "      <td>Ukraine war 'catastrophic for global food'</td>\n",
              "      <td>Mon, 07 Mar 2022 00:14:42 GMT</td>\n",
              "      <td>https://www.bbc.co.uk/news/business-60623941</td>\n",
              "      <td>https://www.bbc.co.uk/news/business-60623941?a...</td>\n",
              "      <td>One of the world's biggest fertiliser firms sa...</td>\n",
              "    </tr>\n",
              "    <tr>\n",
              "      <th>3</th>\n",
              "      <td>Manchester Arena bombing: Saffie Roussos's par...</td>\n",
              "      <td>Mon, 07 Mar 2022 00:05:40 GMT</td>\n",
              "      <td>https://www.bbc.co.uk/news/uk-60579079</td>\n",
              "      <td>https://www.bbc.co.uk/news/uk-60579079?at_medi...</td>\n",
              "      <td>The parents of the Manchester Arena bombing's ...</td>\n",
              "    </tr>\n",
              "    <tr>\n",
              "      <th>4</th>\n",
              "      <td>Ukraine conflict: Oil price soars to highest l...</td>\n",
              "      <td>Mon, 07 Mar 2022 08:15:53 GMT</td>\n",
              "      <td>https://www.bbc.co.uk/news/business-60642786</td>\n",
              "      <td>https://www.bbc.co.uk/news/business-60642786?a...</td>\n",
              "      <td>Consumers are feeling the impact of higher ene...</td>\n",
              "    </tr>\n",
              "  </tbody>\n",
              "</table>\n",
              "</div>"
            ],
            "text/plain": [
              "                                               title  \\\n",
              "0  Ukraine: Angry Zelensky vows to punish Russian...   \n",
              "1  War in Ukraine: Taking cover in a town under a...   \n",
              "2         Ukraine war 'catastrophic for global food'   \n",
              "3  Manchester Arena bombing: Saffie Roussos's par...   \n",
              "4  Ukraine conflict: Oil price soars to highest l...   \n",
              "\n",
              "                         pubDate  \\\n",
              "0  Mon, 07 Mar 2022 08:01:56 GMT   \n",
              "1  Sun, 06 Mar 2022 22:49:58 GMT   \n",
              "2  Mon, 07 Mar 2022 00:14:42 GMT   \n",
              "3  Mon, 07 Mar 2022 00:05:40 GMT   \n",
              "4  Mon, 07 Mar 2022 08:15:53 GMT   \n",
              "\n",
              "                                               guid  \\\n",
              "0  https://www.bbc.co.uk/news/world-europe-60638042   \n",
              "1  https://www.bbc.co.uk/news/world-europe-60641873   \n",
              "2      https://www.bbc.co.uk/news/business-60623941   \n",
              "3            https://www.bbc.co.uk/news/uk-60579079   \n",
              "4      https://www.bbc.co.uk/news/business-60642786   \n",
              "\n",
              "                                                link  \\\n",
              "0  https://www.bbc.co.uk/news/world-europe-606380...   \n",
              "1  https://www.bbc.co.uk/news/world-europe-606418...   \n",
              "2  https://www.bbc.co.uk/news/business-60623941?a...   \n",
              "3  https://www.bbc.co.uk/news/uk-60579079?at_medi...   \n",
              "4  https://www.bbc.co.uk/news/business-60642786?a...   \n",
              "\n",
              "                                         description  \n",
              "0  The Ukrainian president says the country will ...  \n",
              "1  Jeremy Bowen was on the frontline in Irpin, as...  \n",
              "2  One of the world's biggest fertiliser firms sa...  \n",
              "3  The parents of the Manchester Arena bombing's ...  \n",
              "4  Consumers are feeling the impact of higher ene...  "
            ]
          },
          "execution_count": 5,
          "metadata": {},
          "output_type": "execute_result"
        }
      ],
      "source": [
        "data.head()"
      ]
    },
    {
      "cell_type": "markdown",
      "metadata": {
        "id": "CuzhQZvOstFc"
      },
      "source": [
        "* ##### Data cleaning and selecting few columns we will be requiring for the recomendation--"
      ]
    },
    {
      "cell_type": "code",
      "execution_count": 6,
      "metadata": {
        "execution": {
          "iopub.execute_input": "2024-06-29T06:19:42.174811Z",
          "iopub.status.busy": "2024-06-29T06:19:42.174447Z",
          "iopub.status.idle": "2024-06-29T06:19:42.216408Z",
          "shell.execute_reply": "2024-06-29T06:19:42.215391Z",
          "shell.execute_reply.started": "2024-06-29T06:19:42.174773Z"
        },
        "id": "oIF6yH1rstFd",
        "trusted": true
      },
      "outputs": [],
      "source": [
        "data = data.drop_duplicates(subset=None, keep='first', inplace=False)"
      ]
    },
    {
      "cell_type": "code",
      "execution_count": 7,
      "metadata": {
        "colab": {
          "base_uri": "https://localhost:8080/"
        },
        "execution": {
          "iopub.execute_input": "2024-06-29T06:19:42.220975Z",
          "iopub.status.busy": "2024-06-29T06:19:42.220585Z",
          "iopub.status.idle": "2024-06-29T06:19:42.227205Z",
          "shell.execute_reply": "2024-06-29T06:19:42.226121Z",
          "shell.execute_reply.started": "2024-06-29T06:19:42.220937Z"
        },
        "id": "O3p4l81XstFe",
        "outputId": "1448856b-8ec9-4e8f-869f-5cfb9a0d3cb2",
        "trusted": true
      },
      "outputs": [
        {
          "data": {
            "text/plain": [
              "(35812, 5)"
            ]
          },
          "execution_count": 7,
          "metadata": {},
          "output_type": "execute_result"
        }
      ],
      "source": [
        "data.shape"
      ]
    },
    {
      "cell_type": "code",
      "execution_count": 8,
      "metadata": {
        "colab": {
          "base_uri": "https://localhost:8080/",
          "height": 1000
        },
        "execution": {
          "iopub.execute_input": "2024-06-29T06:19:42.231722Z",
          "iopub.status.busy": "2024-06-29T06:19:42.231221Z",
          "iopub.status.idle": "2024-06-29T06:19:42.267209Z",
          "shell.execute_reply": "2024-06-29T06:19:42.266247Z",
          "shell.execute_reply.started": "2024-06-29T06:19:42.23167Z"
        },
        "id": "2m51Kp1CstFg",
        "outputId": "6565271a-e6c2-4132-b87f-a82e8dc94def",
        "trusted": true
      },
      "outputs": [
        {
          "data": {
            "text/html": [
              "<div>\n",
              "<style scoped>\n",
              "    .dataframe tbody tr th:only-of-type {\n",
              "        vertical-align: middle;\n",
              "    }\n",
              "\n",
              "    .dataframe tbody tr th {\n",
              "        vertical-align: top;\n",
              "    }\n",
              "\n",
              "    .dataframe thead th {\n",
              "        text-align: right;\n",
              "    }\n",
              "</style>\n",
              "<table border=\"1\" class=\"dataframe\">\n",
              "  <thead>\n",
              "    <tr style=\"text-align: right;\">\n",
              "      <th></th>\n",
              "      <th>id</th>\n",
              "      <th>title</th>\n",
              "      <th>pubDate</th>\n",
              "      <th>guid</th>\n",
              "      <th>link</th>\n",
              "      <th>description</th>\n",
              "    </tr>\n",
              "  </thead>\n",
              "  <tbody>\n",
              "    <tr>\n",
              "      <th>0</th>\n",
              "      <td>0</td>\n",
              "      <td>Ukraine: Angry Zelensky vows to punish Russian...</td>\n",
              "      <td>Mon, 07 Mar 2022 08:01:56 GMT</td>\n",
              "      <td>https://www.bbc.co.uk/news/world-europe-60638042</td>\n",
              "      <td>https://www.bbc.co.uk/news/world-europe-606380...</td>\n",
              "      <td>The Ukrainian president says the country will ...</td>\n",
              "    </tr>\n",
              "    <tr>\n",
              "      <th>1</th>\n",
              "      <td>1</td>\n",
              "      <td>War in Ukraine: Taking cover in a town under a...</td>\n",
              "      <td>Sun, 06 Mar 2022 22:49:58 GMT</td>\n",
              "      <td>https://www.bbc.co.uk/news/world-europe-60641873</td>\n",
              "      <td>https://www.bbc.co.uk/news/world-europe-606418...</td>\n",
              "      <td>Jeremy Bowen was on the frontline in Irpin, as...</td>\n",
              "    </tr>\n",
              "    <tr>\n",
              "      <th>2</th>\n",
              "      <td>2</td>\n",
              "      <td>Ukraine war 'catastrophic for global food'</td>\n",
              "      <td>Mon, 07 Mar 2022 00:14:42 GMT</td>\n",
              "      <td>https://www.bbc.co.uk/news/business-60623941</td>\n",
              "      <td>https://www.bbc.co.uk/news/business-60623941?a...</td>\n",
              "      <td>One of the world's biggest fertiliser firms sa...</td>\n",
              "    </tr>\n",
              "    <tr>\n",
              "      <th>3</th>\n",
              "      <td>3</td>\n",
              "      <td>Manchester Arena bombing: Saffie Roussos's par...</td>\n",
              "      <td>Mon, 07 Mar 2022 00:05:40 GMT</td>\n",
              "      <td>https://www.bbc.co.uk/news/uk-60579079</td>\n",
              "      <td>https://www.bbc.co.uk/news/uk-60579079?at_medi...</td>\n",
              "      <td>The parents of the Manchester Arena bombing's ...</td>\n",
              "    </tr>\n",
              "    <tr>\n",
              "      <th>4</th>\n",
              "      <td>4</td>\n",
              "      <td>Ukraine conflict: Oil price soars to highest l...</td>\n",
              "      <td>Mon, 07 Mar 2022 08:15:53 GMT</td>\n",
              "      <td>https://www.bbc.co.uk/news/business-60642786</td>\n",
              "      <td>https://www.bbc.co.uk/news/business-60642786?a...</td>\n",
              "      <td>Consumers are feeling the impact of higher ene...</td>\n",
              "    </tr>\n",
              "    <tr>\n",
              "      <th>...</th>\n",
              "      <td>...</td>\n",
              "      <td>...</td>\n",
              "      <td>...</td>\n",
              "      <td>...</td>\n",
              "      <td>...</td>\n",
              "      <td>...</td>\n",
              "    </tr>\n",
              "    <tr>\n",
              "      <th>35807</th>\n",
              "      <td>35807</td>\n",
              "      <td>Electioncast: Chris' Pit Stop and Policy Station</td>\n",
              "      <td>Tue, 02 Jul 2024 18:26:00 GMT</td>\n",
              "      <td>https://www.bbc.co.uk/sounds/play/p0j7xr82#10</td>\n",
              "      <td>https://www.bbc.co.uk/sounds/play/p0j7xr82</td>\n",
              "      <td>Chris and Adam refuel with insights from the f...</td>\n",
              "    </tr>\n",
              "    <tr>\n",
              "      <th>35808</th>\n",
              "      <td>35808</td>\n",
              "      <td>Tribunal rules after surgeon left women in agony</td>\n",
              "      <td>Tue, 02 Jul 2024 16:55:28 GMT</td>\n",
              "      <td>https://www.bbc.com/news/articles/ck7g1eyeg33o#12</td>\n",
              "      <td>https://www.bbc.com/news/articles/ck7g1eyeg33o</td>\n",
              "      <td>Tony Dixon, who used artificial mesh to treat ...</td>\n",
              "    </tr>\n",
              "    <tr>\n",
              "      <th>35809</th>\n",
              "      <td>35809</td>\n",
              "      <td>Jeffrey Donaldson facing more sex offence charges</td>\n",
              "      <td>Tue, 02 Jul 2024 13:36:50 GMT</td>\n",
              "      <td>https://www.bbc.com/news/articles/cpe314ezpg1o#12</td>\n",
              "      <td>https://www.bbc.com/news/articles/cpe314ezpg1o</td>\n",
              "      <td>Sir Jeffrey now faces 18 sex offence charges w...</td>\n",
              "    </tr>\n",
              "    <tr>\n",
              "      <th>35810</th>\n",
              "      <td>35810</td>\n",
              "      <td>Half of Scotland's councils set for bin strikes</td>\n",
              "      <td>Tue, 02 Jul 2024 14:42:35 GMT</td>\n",
              "      <td>https://www.bbc.com/news/articles/cye09k856ndo#12</td>\n",
              "      <td>https://www.bbc.com/news/articles/cye09k856ndo</td>\n",
              "      <td>Unite members rejected the pay offer in May, a...</td>\n",
              "    </tr>\n",
              "    <tr>\n",
              "      <th>35811</th>\n",
              "      <td>35811</td>\n",
              "      <td>Wales' key general election battlegrounds to w...</td>\n",
              "      <td>Tue, 02 Jul 2024 22:00:14 GMT</td>\n",
              "      <td>https://www.bbc.com/news/articles/ced315d2z9no#12</td>\n",
              "      <td>https://www.bbc.com/news/articles/ced315d2z9no</td>\n",
              "      <td>Could Wales lose four of its previous Welsh se...</td>\n",
              "    </tr>\n",
              "  </tbody>\n",
              "</table>\n",
              "<p>35812 rows × 6 columns</p>\n",
              "</div>"
            ],
            "text/plain": [
              "          id                                              title  \\\n",
              "0          0  Ukraine: Angry Zelensky vows to punish Russian...   \n",
              "1          1  War in Ukraine: Taking cover in a town under a...   \n",
              "2          2         Ukraine war 'catastrophic for global food'   \n",
              "3          3  Manchester Arena bombing: Saffie Roussos's par...   \n",
              "4          4  Ukraine conflict: Oil price soars to highest l...   \n",
              "...      ...                                                ...   \n",
              "35807  35807   Electioncast: Chris' Pit Stop and Policy Station   \n",
              "35808  35808   Tribunal rules after surgeon left women in agony   \n",
              "35809  35809  Jeffrey Donaldson facing more sex offence charges   \n",
              "35810  35810    Half of Scotland's councils set for bin strikes   \n",
              "35811  35811  Wales' key general election battlegrounds to w...   \n",
              "\n",
              "                             pubDate  \\\n",
              "0      Mon, 07 Mar 2022 08:01:56 GMT   \n",
              "1      Sun, 06 Mar 2022 22:49:58 GMT   \n",
              "2      Mon, 07 Mar 2022 00:14:42 GMT   \n",
              "3      Mon, 07 Mar 2022 00:05:40 GMT   \n",
              "4      Mon, 07 Mar 2022 08:15:53 GMT   \n",
              "...                              ...   \n",
              "35807  Tue, 02 Jul 2024 18:26:00 GMT   \n",
              "35808  Tue, 02 Jul 2024 16:55:28 GMT   \n",
              "35809  Tue, 02 Jul 2024 13:36:50 GMT   \n",
              "35810  Tue, 02 Jul 2024 14:42:35 GMT   \n",
              "35811  Tue, 02 Jul 2024 22:00:14 GMT   \n",
              "\n",
              "                                                    guid  \\\n",
              "0       https://www.bbc.co.uk/news/world-europe-60638042   \n",
              "1       https://www.bbc.co.uk/news/world-europe-60641873   \n",
              "2           https://www.bbc.co.uk/news/business-60623941   \n",
              "3                 https://www.bbc.co.uk/news/uk-60579079   \n",
              "4           https://www.bbc.co.uk/news/business-60642786   \n",
              "...                                                  ...   \n",
              "35807      https://www.bbc.co.uk/sounds/play/p0j7xr82#10   \n",
              "35808  https://www.bbc.com/news/articles/ck7g1eyeg33o#12   \n",
              "35809  https://www.bbc.com/news/articles/cpe314ezpg1o#12   \n",
              "35810  https://www.bbc.com/news/articles/cye09k856ndo#12   \n",
              "35811  https://www.bbc.com/news/articles/ced315d2z9no#12   \n",
              "\n",
              "                                                    link  \\\n",
              "0      https://www.bbc.co.uk/news/world-europe-606380...   \n",
              "1      https://www.bbc.co.uk/news/world-europe-606418...   \n",
              "2      https://www.bbc.co.uk/news/business-60623941?a...   \n",
              "3      https://www.bbc.co.uk/news/uk-60579079?at_medi...   \n",
              "4      https://www.bbc.co.uk/news/business-60642786?a...   \n",
              "...                                                  ...   \n",
              "35807         https://www.bbc.co.uk/sounds/play/p0j7xr82   \n",
              "35808     https://www.bbc.com/news/articles/ck7g1eyeg33o   \n",
              "35809     https://www.bbc.com/news/articles/cpe314ezpg1o   \n",
              "35810     https://www.bbc.com/news/articles/cye09k856ndo   \n",
              "35811     https://www.bbc.com/news/articles/ced315d2z9no   \n",
              "\n",
              "                                             description  \n",
              "0      The Ukrainian president says the country will ...  \n",
              "1      Jeremy Bowen was on the frontline in Irpin, as...  \n",
              "2      One of the world's biggest fertiliser firms sa...  \n",
              "3      The parents of the Manchester Arena bombing's ...  \n",
              "4      Consumers are feeling the impact of higher ene...  \n",
              "...                                                  ...  \n",
              "35807  Chris and Adam refuel with insights from the f...  \n",
              "35808  Tony Dixon, who used artificial mesh to treat ...  \n",
              "35809  Sir Jeffrey now faces 18 sex offence charges w...  \n",
              "35810  Unite members rejected the pay offer in May, a...  \n",
              "35811  Could Wales lose four of its previous Welsh se...  \n",
              "\n",
              "[35812 rows x 6 columns]"
            ]
          },
          "execution_count": 8,
          "metadata": {},
          "output_type": "execute_result"
        }
      ],
      "source": [
        "data.insert(0,'id',range(0,data.shape[0]))\n",
        "data"
      ]
    },
    {
      "cell_type": "code",
      "execution_count": 9,
      "metadata": {
        "execution": {
          "iopub.execute_input": "2024-06-29T06:19:42.269022Z",
          "iopub.status.busy": "2024-06-29T06:19:42.268665Z",
          "iopub.status.idle": "2024-06-29T06:19:42.275846Z",
          "shell.execute_reply": "2024-06-29T06:19:42.27468Z",
          "shell.execute_reply.started": "2024-06-29T06:19:42.268984Z"
        },
        "id": "2tZHPD5dstFh",
        "trusted": true
      },
      "outputs": [
        {
          "data": {
            "text/html": [
              "<div>\n",
              "<style scoped>\n",
              "    .dataframe tbody tr th:only-of-type {\n",
              "        vertical-align: middle;\n",
              "    }\n",
              "\n",
              "    .dataframe tbody tr th {\n",
              "        vertical-align: top;\n",
              "    }\n",
              "\n",
              "    .dataframe thead th {\n",
              "        text-align: right;\n",
              "    }\n",
              "</style>\n",
              "<table border=\"1\" class=\"dataframe\">\n",
              "  <thead>\n",
              "    <tr style=\"text-align: right;\">\n",
              "      <th></th>\n",
              "      <th>date</th>\n",
              "      <th>title</th>\n",
              "      <th>text</th>\n",
              "      <th>link</th>\n",
              "    </tr>\n",
              "  </thead>\n",
              "  <tbody>\n",
              "    <tr>\n",
              "      <th>0</th>\n",
              "      <td>Mon, 07 Mar 2022 08:01:56 GMT</td>\n",
              "      <td>Ukraine: Angry Zelensky vows to punish Russian...</td>\n",
              "      <td>The Ukrainian president says the country will ...</td>\n",
              "      <td>https://www.bbc.co.uk/news/world-europe-606380...</td>\n",
              "    </tr>\n",
              "    <tr>\n",
              "      <th>1</th>\n",
              "      <td>Sun, 06 Mar 2022 22:49:58 GMT</td>\n",
              "      <td>War in Ukraine: Taking cover in a town under a...</td>\n",
              "      <td>Jeremy Bowen was on the frontline in Irpin, as...</td>\n",
              "      <td>https://www.bbc.co.uk/news/world-europe-606418...</td>\n",
              "    </tr>\n",
              "    <tr>\n",
              "      <th>2</th>\n",
              "      <td>Mon, 07 Mar 2022 00:14:42 GMT</td>\n",
              "      <td>Ukraine war 'catastrophic for global food'</td>\n",
              "      <td>One of the world's biggest fertiliser firms sa...</td>\n",
              "      <td>https://www.bbc.co.uk/news/business-60623941?a...</td>\n",
              "    </tr>\n",
              "    <tr>\n",
              "      <th>3</th>\n",
              "      <td>Mon, 07 Mar 2022 00:05:40 GMT</td>\n",
              "      <td>Manchester Arena bombing: Saffie Roussos's par...</td>\n",
              "      <td>The parents of the Manchester Arena bombing's ...</td>\n",
              "      <td>https://www.bbc.co.uk/news/uk-60579079?at_medi...</td>\n",
              "    </tr>\n",
              "    <tr>\n",
              "      <th>4</th>\n",
              "      <td>Mon, 07 Mar 2022 08:15:53 GMT</td>\n",
              "      <td>Ukraine conflict: Oil price soars to highest l...</td>\n",
              "      <td>Consumers are feeling the impact of higher ene...</td>\n",
              "      <td>https://www.bbc.co.uk/news/business-60642786?a...</td>\n",
              "    </tr>\n",
              "    <tr>\n",
              "      <th>...</th>\n",
              "      <td>...</td>\n",
              "      <td>...</td>\n",
              "      <td>...</td>\n",
              "      <td>...</td>\n",
              "    </tr>\n",
              "    <tr>\n",
              "      <th>35807</th>\n",
              "      <td>Tue, 02 Jul 2024 18:26:00 GMT</td>\n",
              "      <td>Electioncast: Chris' Pit Stop and Policy Station</td>\n",
              "      <td>Chris and Adam refuel with insights from the f...</td>\n",
              "      <td>https://www.bbc.co.uk/sounds/play/p0j7xr82</td>\n",
              "    </tr>\n",
              "    <tr>\n",
              "      <th>35808</th>\n",
              "      <td>Tue, 02 Jul 2024 16:55:28 GMT</td>\n",
              "      <td>Tribunal rules after surgeon left women in agony</td>\n",
              "      <td>Tony Dixon, who used artificial mesh to treat ...</td>\n",
              "      <td>https://www.bbc.com/news/articles/ck7g1eyeg33o</td>\n",
              "    </tr>\n",
              "    <tr>\n",
              "      <th>35809</th>\n",
              "      <td>Tue, 02 Jul 2024 13:36:50 GMT</td>\n",
              "      <td>Jeffrey Donaldson facing more sex offence charges</td>\n",
              "      <td>Sir Jeffrey now faces 18 sex offence charges w...</td>\n",
              "      <td>https://www.bbc.com/news/articles/cpe314ezpg1o</td>\n",
              "    </tr>\n",
              "    <tr>\n",
              "      <th>35810</th>\n",
              "      <td>Tue, 02 Jul 2024 14:42:35 GMT</td>\n",
              "      <td>Half of Scotland's councils set for bin strikes</td>\n",
              "      <td>Unite members rejected the pay offer in May, a...</td>\n",
              "      <td>https://www.bbc.com/news/articles/cye09k856ndo</td>\n",
              "    </tr>\n",
              "    <tr>\n",
              "      <th>35811</th>\n",
              "      <td>Tue, 02 Jul 2024 22:00:14 GMT</td>\n",
              "      <td>Wales' key general election battlegrounds to w...</td>\n",
              "      <td>Could Wales lose four of its previous Welsh se...</td>\n",
              "      <td>https://www.bbc.com/news/articles/ced315d2z9no</td>\n",
              "    </tr>\n",
              "  </tbody>\n",
              "</table>\n",
              "<p>35812 rows × 4 columns</p>\n",
              "</div>"
            ],
            "text/plain": [
              "                                date  \\\n",
              "0      Mon, 07 Mar 2022 08:01:56 GMT   \n",
              "1      Sun, 06 Mar 2022 22:49:58 GMT   \n",
              "2      Mon, 07 Mar 2022 00:14:42 GMT   \n",
              "3      Mon, 07 Mar 2022 00:05:40 GMT   \n",
              "4      Mon, 07 Mar 2022 08:15:53 GMT   \n",
              "...                              ...   \n",
              "35807  Tue, 02 Jul 2024 18:26:00 GMT   \n",
              "35808  Tue, 02 Jul 2024 16:55:28 GMT   \n",
              "35809  Tue, 02 Jul 2024 13:36:50 GMT   \n",
              "35810  Tue, 02 Jul 2024 14:42:35 GMT   \n",
              "35811  Tue, 02 Jul 2024 22:00:14 GMT   \n",
              "\n",
              "                                                   title  \\\n",
              "0      Ukraine: Angry Zelensky vows to punish Russian...   \n",
              "1      War in Ukraine: Taking cover in a town under a...   \n",
              "2             Ukraine war 'catastrophic for global food'   \n",
              "3      Manchester Arena bombing: Saffie Roussos's par...   \n",
              "4      Ukraine conflict: Oil price soars to highest l...   \n",
              "...                                                  ...   \n",
              "35807   Electioncast: Chris' Pit Stop and Policy Station   \n",
              "35808   Tribunal rules after surgeon left women in agony   \n",
              "35809  Jeffrey Donaldson facing more sex offence charges   \n",
              "35810    Half of Scotland's councils set for bin strikes   \n",
              "35811  Wales' key general election battlegrounds to w...   \n",
              "\n",
              "                                                    text  \\\n",
              "0      The Ukrainian president says the country will ...   \n",
              "1      Jeremy Bowen was on the frontline in Irpin, as...   \n",
              "2      One of the world's biggest fertiliser firms sa...   \n",
              "3      The parents of the Manchester Arena bombing's ...   \n",
              "4      Consumers are feeling the impact of higher ene...   \n",
              "...                                                  ...   \n",
              "35807  Chris and Adam refuel with insights from the f...   \n",
              "35808  Tony Dixon, who used artificial mesh to treat ...   \n",
              "35809  Sir Jeffrey now faces 18 sex offence charges w...   \n",
              "35810  Unite members rejected the pay offer in May, a...   \n",
              "35811  Could Wales lose four of its previous Welsh se...   \n",
              "\n",
              "                                                    link  \n",
              "0      https://www.bbc.co.uk/news/world-europe-606380...  \n",
              "1      https://www.bbc.co.uk/news/world-europe-606418...  \n",
              "2      https://www.bbc.co.uk/news/business-60623941?a...  \n",
              "3      https://www.bbc.co.uk/news/uk-60579079?at_medi...  \n",
              "4      https://www.bbc.co.uk/news/business-60642786?a...  \n",
              "...                                                  ...  \n",
              "35807         https://www.bbc.co.uk/sounds/play/p0j7xr82  \n",
              "35808     https://www.bbc.com/news/articles/ck7g1eyeg33o  \n",
              "35809     https://www.bbc.com/news/articles/cpe314ezpg1o  \n",
              "35810     https://www.bbc.com/news/articles/cye09k856ndo  \n",
              "35811     https://www.bbc.com/news/articles/ced315d2z9no  \n",
              "\n",
              "[35812 rows x 4 columns]"
            ]
          },
          "execution_count": 9,
          "metadata": {},
          "output_type": "execute_result"
        }
      ],
      "source": [
        "ds = data[['pubDate','title','description','link']]\n",
        "ds = ds.rename(columns={'pubDate': 'date', 'description': 'text'})\n",
        "ds"
      ]
    },
    {
      "cell_type": "code",
      "execution_count": 10,
      "metadata": {
        "colab": {
          "base_uri": "https://localhost:8080/"
        },
        "execution": {
          "iopub.execute_input": "2024-06-29T06:19:42.278346Z",
          "iopub.status.busy": "2024-06-29T06:19:42.277845Z",
          "iopub.status.idle": "2024-06-29T06:19:42.293643Z",
          "shell.execute_reply": "2024-06-29T06:19:42.292029Z",
          "shell.execute_reply.started": "2024-06-29T06:19:42.278295Z"
        },
        "id": "zvrexnGTstFh",
        "outputId": "ca00ec6c-c93d-4b34-9657-ead57b79ca04",
        "trusted": true
      },
      "outputs": [
        {
          "data": {
            "text/plain": [
              "(35812, 4)"
            ]
          },
          "execution_count": 10,
          "metadata": {},
          "output_type": "execute_result"
        }
      ],
      "source": [
        "ds.shape"
      ]
    },
    {
      "cell_type": "code",
      "execution_count": 11,
      "metadata": {
        "execution": {
          "iopub.execute_input": "2024-06-29T06:19:42.295807Z",
          "iopub.status.busy": "2024-06-29T06:19:42.295372Z",
          "iopub.status.idle": "2024-06-29T06:19:42.33042Z",
          "shell.execute_reply": "2024-06-29T06:19:42.329334Z",
          "shell.execute_reply.started": "2024-06-29T06:19:42.295742Z"
        },
        "id": "qWQI2vDYstFj",
        "trusted": true
      },
      "outputs": [],
      "source": [
        "ds = ds.dropna()"
      ]
    },
    {
      "cell_type": "code",
      "execution_count": 12,
      "metadata": {
        "execution": {
          "iopub.execute_input": "2024-06-29T06:19:42.332565Z",
          "iopub.status.busy": "2024-06-29T06:19:42.332097Z",
          "iopub.status.idle": "2024-06-29T06:19:42.367087Z",
          "shell.execute_reply": "2024-06-29T06:19:42.366146Z",
          "shell.execute_reply.started": "2024-06-29T06:19:42.332525Z"
        },
        "id": "xVAOp29bstFj",
        "trusted": true
      },
      "outputs": [],
      "source": [
        "ds = ds.drop_duplicates(subset=None, keep='first', inplace=False)\n",
        "# ds = ds.head(1500)"
      ]
    },
    {
      "cell_type": "code",
      "execution_count": 13,
      "metadata": {
        "execution": {
          "iopub.execute_input": "2024-06-29T06:19:42.369231Z",
          "iopub.status.busy": "2024-06-29T06:19:42.368861Z",
          "iopub.status.idle": "2024-06-29T06:19:42.37605Z",
          "shell.execute_reply": "2024-06-29T06:19:42.374861Z",
          "shell.execute_reply.started": "2024-06-29T06:19:42.369195Z"
        },
        "id": "9xqP9izNstFk",
        "trusted": true
      },
      "outputs": [],
      "source": [
        "ds.insert(0,'id',range(0,ds.shape[0]))"
      ]
    },
    {
      "cell_type": "code",
      "execution_count": 14,
      "metadata": {
        "colab": {
          "base_uri": "https://localhost:8080/"
        },
        "execution": {
          "iopub.execute_input": "2024-06-29T06:19:42.378071Z",
          "iopub.status.busy": "2024-06-29T06:19:42.377697Z",
          "iopub.status.idle": "2024-06-29T06:19:42.390776Z",
          "shell.execute_reply": "2024-06-29T06:19:42.389781Z",
          "shell.execute_reply.started": "2024-06-29T06:19:42.378025Z"
        },
        "id": "PZCtY3HWstFl",
        "outputId": "d5b0172c-2095-4665-d513-c65a5ecc6249",
        "trusted": true
      },
      "outputs": [
        {
          "data": {
            "text/plain": [
              "(35269, 5)"
            ]
          },
          "execution_count": 14,
          "metadata": {},
          "output_type": "execute_result"
        }
      ],
      "source": [
        "ds.shape"
      ]
    },
    {
      "cell_type": "code",
      "execution_count": 15,
      "metadata": {},
      "outputs": [],
      "source": [
        "ds.to_csv('processed_data.csv', index=False)\n",
        "ds = pd.read_csv('processed_data.csv')"
      ]
    },
    {
      "cell_type": "markdown",
      "metadata": {
        "id": "MqyYPz6KstFm"
      },
      "source": [
        "## Step 2: Encoding your data\n",
        "\n",
        "Term frequency–inverse document frequency (TF-IDF) encoding we will use the term frequency–inverse document frequency (TF-IDF) encoding scheme."
      ]
    },
    {
      "cell_type": "markdown",
      "metadata": {
        "id": "jLYk1S-estFo"
      },
      "source": [
        "\n",
        "The advantage of TF-IDF encoding is that it will weigh a term (a tag for a movie in our example) according to the importance of the term within the document: The more frequently the term appears, the larger its weight will be. At the same time, it weighs the item inversely to the frequency of this term across the entire dataset: It will emphasise terms that are relatively rare occurrences in the general dataset but of importance to the specific content at hand."
      ]
    },
    {
      "cell_type": "markdown",
      "metadata": {
        "id": "Nj4uvRzUstFo"
      },
      "source": [
        "## Importing Liberaries"
      ]
    },
    {
      "cell_type": "code",
      "execution_count": 15,
      "metadata": {
        "colab": {
          "base_uri": "https://localhost:8080/"
        },
        "execution": {
          "iopub.execute_input": "2024-06-29T06:19:42.416481Z",
          "iopub.status.busy": "2024-06-29T06:19:42.416062Z",
          "iopub.status.idle": "2024-06-29T06:19:44.36343Z",
          "shell.execute_reply": "2024-06-29T06:19:44.362115Z",
          "shell.execute_reply.started": "2024-06-29T06:19:42.416442Z"
        },
        "id": "coV2V7LmstFp",
        "outputId": "320e4c59-3009-44a2-ab3a-97d13655c22d",
        "trusted": true
      },
      "outputs": [
        {
          "name": "stderr",
          "output_type": "stream",
          "text": [
            "[nltk_data] Downloading package stopwords to\n",
            "[nltk_data]     C:\\Users\\shree\\AppData\\Roaming\\nltk_data...\n",
            "[nltk_data]   Package stopwords is already up-to-date!\n"
          ]
        }
      ],
      "source": [
        "from nltk.corpus import stopwords\n",
        "from sklearn.metrics.pairwise import linear_kernel\n",
        "from sklearn.feature_extraction.text import CountVectorizer\n",
        "from sklearn.feature_extraction.text import TfidfVectorizer\n",
        "from nltk.tokenize import RegexpTokenizer\n",
        "import nltk\n",
        "nltk.download('stopwords')\n",
        "import re\n",
        "import string\n",
        "import random"
      ]
    },
    {
      "cell_type": "markdown",
      "metadata": {
        "id": "Kdpmydq6stFq"
      },
      "source": [
        "## Applying all the functions in text column and storing as a cleaned_desc"
      ]
    },
    {
      "cell_type": "code",
      "execution_count": 16,
      "metadata": {
        "execution": {
          "iopub.execute_input": "2024-06-29T06:19:44.365502Z",
          "iopub.status.busy": "2024-06-29T06:19:44.364988Z",
          "iopub.status.idle": "2024-06-29T06:19:45.27716Z",
          "shell.execute_reply": "2024-06-29T06:19:45.27619Z",
          "shell.execute_reply.started": "2024-06-29T06:19:44.36545Z"
        },
        "id": "lU3xC_McstFq",
        "trusted": true
      },
      "outputs": [],
      "source": [
        "# Function for removing NonAscii characters\n",
        "#def _removeNonAscii(s):\n",
        "#    return \"\".join(i for i in s if  ord(i)<128)\n",
        "\n",
        "# Function for converting into lower case\n",
        "def make_lower_case(text):\n",
        "    return text.lower()\n",
        "\n",
        "# Function for removing stop words\n",
        "def remove_stop_words(text):\n",
        "    text = text.split()\n",
        "    stops = set(stopwords.words(\"english\"))\n",
        "    text = [w for w in text if not w in stops]\n",
        "    texts = [w for w in text if w.isalpha()]\n",
        "    texts = \" \".join(texts)\n",
        "    return texts\n",
        "\n",
        "# Function for removing punctuation\n",
        "def remove_punctuation(text):\n",
        "    tokenizer = RegexpTokenizer(r'\\w+')\n",
        "    text = tokenizer.tokenize(text)\n",
        "    text = \" \".join(text)\n",
        "    return text\n",
        "\n",
        "# Function for removing the html tags\n",
        "def remove_html(text):\n",
        "    html_pattern = re.compile('<.*?>')\n",
        "    return html_pattern.sub(r'', text)\n",
        "\n",
        "# Applying all the functions in description and storing as a cleaned_desc\n",
        "#ds['cleaned_desc'] = ds['text'].apply(_removeNonAscii)\n",
        "ds['cleaned_desc'] = ds['text'].apply(func = make_lower_case)\n",
        "ds['cleaned_desc'] = ds.cleaned_desc.apply(func = remove_stop_words)\n",
        "ds['cleaned_desc'] = ds.cleaned_desc.apply(func=remove_punctuation)\n",
        "ds['cleaned_desc'] = ds.cleaned_desc.apply(func=remove_html)"
      ]
    },
    {
      "cell_type": "code",
      "execution_count": 17,
      "metadata": {
        "execution": {
          "iopub.execute_input": "2024-06-29T06:19:45.279298Z",
          "iopub.status.busy": "2024-06-29T06:19:45.278802Z",
          "iopub.status.idle": "2024-06-29T06:19:50.650123Z",
          "shell.execute_reply": "2024-06-29T06:19:50.648935Z",
          "shell.execute_reply.started": "2024-06-29T06:19:45.279249Z"
        },
        "id": "jbg-nQ7KstFr",
        "trusted": true
      },
      "outputs": [],
      "source": [
        "import pandas as pd\n",
        "from sklearn.feature_extraction.text import TfidfVectorizer\n",
        "from sklearn.metrics.pairwise import linear_kernel\n",
        "\n",
        "## analyzer -- to select individual words# default\n",
        "## max_df[0.0,1.0] - used to ignore words with frequency more than 0.8 these words can be useless words as these words may appear only once and may not have a significant meaning\n",
        "## min_df -- similar reason as the above one.\n",
        "## use_idfbool, default=True  -- Enable inverse-document-frequency reweighting.\n",
        "\n",
        "tf = TfidfVectorizer(analyzer='word',stop_words='english',max_df=0.8,min_df=0.0,use_idf=True,ngram_range=(1,3))\n",
        "tfidf_matrix = tf.fit_transform(ds['cleaned_desc'])"
      ]
    },
    {
      "cell_type": "markdown",
      "metadata": {
        "id": "9W6nX1BSstFr"
      },
      "source": [
        "### This is how a tfidf vector looks like."
      ]
    },
    {
      "cell_type": "markdown",
      "metadata": {
        "id": "lEoafIGIstFt"
      },
      "source": [
        "<i>Now, we have a representation of every item in terms of its description. Next, we need to calculate the relevance or similarity of one document to another.</i>"
      ]
    },
    {
      "cell_type": "markdown",
      "metadata": {
        "id": "UGhbV7qcstFu"
      },
      "source": [
        "## Vector Space Model\n",
        "In this model, each item is stored as a vector of its attributes (which are also vectors) in an n-dimensional space, and the angles between the vectors are calculated to determine the similarity between the vectors.\n"
      ]
    },
    {
      "cell_type": "markdown",
      "metadata": {
        "id": "mIvGfLATstFv"
      },
      "source": [
        "* The method of calculating the user’s likes / dislikes / measures is calculated by taking the cosine of the angle between the user profile vector (Ui ) and the document vector; or in our case, the angle between two document vectors.\n",
        "* The ultimate reason behind using cosine is that the value of cosine will increase as the angle between vectors with decreases, which signifies more similarity."
      ]
    },
    {
      "cell_type": "code",
      "execution_count": 18,
      "metadata": {
        "_kg_hide-input": true,
        "_kg_hide-output": true,
        "colab": {
          "base_uri": "https://localhost:8080/"
        },
        "execution": {
          "iopub.execute_input": "2024-06-29T06:23:01.479262Z",
          "iopub.status.busy": "2024-06-29T06:23:01.478823Z",
          "iopub.status.idle": "2024-06-29T06:23:01.487644Z",
          "shell.execute_reply": "2024-06-29T06:23:01.48623Z",
          "shell.execute_reply.started": "2024-06-29T06:23:01.479217Z"
        },
        "id": "igKi1HEastFz",
        "outputId": "ce6bcd81-2ce4-467c-e7a9-f645ad17ee2e",
        "trusted": true
      },
      "outputs": [],
      "source": [
        "import pickle\n",
        "import scipy.sparse\n",
        "\n",
        "# Assume tfidf_matrix is your TF-IDF matrix\n",
        "# Save the TF-IDF matrix\n",
        "with open('../server/data/tfidf_matrix.pkl', 'wb') as file:\n",
        "    pickle.dump(tfidf_matrix, file)\n",
        "\n",
        "with open('../server/data/tfidf_vectorizer.pkl', 'wb') as file:\n",
        "    pickle.dump(tf, file)\n"
      ]
    },
    {
      "cell_type": "markdown",
      "metadata": {
        "id": "JS6wO6MestFz"
      },
      "source": [
        "A recommender system has to decide between two methods for information delivery when providing the user with recommendations:\n",
        "* Exploitation. The system chooses documents similar to those for which the user has already expressed a preference.\n",
        "* Exploration. The system chooses documents where the user profile does not provide evidence to predict the user’s reaction.<br><br>\n",
        "<b>We are going to use <u>Exploitation method </u></b>"
      ]
    },
    {
      "cell_type": "code",
      "execution_count": 20,
      "metadata": {
        "execution": {
          "iopub.execute_input": "2024-06-29T06:23:32.393529Z",
          "iopub.status.busy": "2024-06-29T06:23:32.393115Z",
          "iopub.status.idle": "2024-06-29T06:23:32.406716Z",
          "shell.execute_reply": "2024-06-29T06:23:32.405376Z",
          "shell.execute_reply.started": "2024-06-29T06:23:32.393495Z"
        },
        "id": "sULxjpSHstF0",
        "trusted": true
      },
      "outputs": [],
      "source": [
        "def recomendation(idx,no_of_news_article):\n",
        "    #get similarity values with other articles\n",
        "    vector = tf.transform([ds['cleaned_desc'][idx]])\n",
        "    cosine_similarities = linear_kernel(tfidf_matrix, vector)\n",
        "    similarity_score = list(enumerate(cosine_similarities))\n",
        "    similarity_score = sorted(similarity_score, key=lambda x: x[1], reverse=True)\n",
        "    # Get the scores of the n most similar news articles. Ignore the first movie.\n",
        "    similarity_score = similarity_score[1:no_of_news_article+1]\n",
        "\n",
        "    print(\"Title -- \" + ds['title'].iloc[idx])\n",
        "    print((\"-\"*300))\n",
        "    news_indices = [i[0] for i in similarity_score]\n",
        "    for i in range(len(news_indices)):\n",
        "        print(\"Recomendation \"+ str(i+1)+\" : \" +str(news_indices[i])+\"(IDX)  \"+\n",
        "              ds['title'].iloc[news_indices[i]] +\" || score : \"+ str(similarity_score[i][1]))\n",
        "        print()"
      ]
    },
    {
      "cell_type": "markdown",
      "metadata": {
        "id": "jazXfQdXstF0"
      },
      "source": [
        "## Test 1 - when min_df=0.2 shape 1496 rows × 31 columns"
      ]
    },
    {
      "cell_type": "code",
      "execution_count": 21,
      "metadata": {
        "colab": {
          "base_uri": "https://localhost:8080/"
        },
        "execution": {
          "iopub.execute_input": "2024-06-29T06:23:36.426603Z",
          "iopub.status.busy": "2024-06-29T06:23:36.42615Z",
          "iopub.status.idle": "2024-06-29T06:23:36.438123Z",
          "shell.execute_reply": "2024-06-29T06:23:36.436606Z",
          "shell.execute_reply.started": "2024-06-29T06:23:36.426564Z"
        },
        "id": "aYA0r9RYstF1",
        "outputId": "555891f8-d8ea-4e84-d31d-b66c6aea3e05",
        "trusted": true
      },
      "outputs": [
        {
          "name": "stdout",
          "output_type": "stream",
          "text": [
            "Title -- Rudy Giuliani revealed on The Masked Singer TV show\n",
            "------------------------------------------------------------------------------------------------------------------------------------------------------------------------------------------------------------------------------------------------------------------------------------------------------------\n",
            "Recomendation 1 : 33777(IDX)  Trump's White House bid goes on, lawyer tells BBC || score : [0.13548926]\n",
            "\n",
            "Recomendation 2 : 26615(IDX)  Rudy Giuliani must pay more than $148m over false election claims || score : [0.07304291]\n",
            "\n",
            "Recomendation 3 : 27061(IDX)  FBI investigate threats against Colorado judges who ruled against Donald Trump || score : [0.06553609]\n",
            "\n",
            "Recomendation 4 : 25071(IDX)  Leeds city centre cordon lifted after 'unstable' crane concerns || score : [0.06513709]\n",
            "\n",
            "Recomendation 5 : 10930(IDX)  Matt Hancock on I'm A Celebrity: Has the controversial MP been forgiven? || score : [0.06213155]\n",
            "\n",
            "Recomendation 6 : 16963(IDX)  Imran Khan: Pakistan's Supreme Court rules arrest was illegal || score : [0.05934664]\n",
            "\n",
            "Recomendation 7 : 20163(IDX)  Georgia prosecutor Fani Willis reports racist threats over Trump case || score : [0.05876412]\n",
            "\n",
            "Recomendation 8 : 31899(IDX)  Truss endorses Trump to win US presidential race || score : [0.05875749]\n",
            "\n",
            "Recomendation 9 : 15180(IDX)  Harry's power play: Why has the prince turned up at court? || score : [0.05450495]\n",
            "\n",
            "Recomendation 10 : 20157(IDX)  Could he go to prison and other key questions || score : [0.05233069]\n",
            "\n"
          ]
        }
      ],
      "source": [
        "idx=2000  #min_df=0.2 shape 1496 rows × 31 columns\n",
        "no_of_news_article=10\n",
        "recomendation(idx,no_of_news_article)"
      ]
    },
    {
      "cell_type": "markdown",
      "metadata": {
        "id": "W3n0OStzstF1"
      },
      "source": [
        "## Test 2 - when min_df=0.1 shape 1496 rows × 144 columns"
      ]
    },
    {
      "cell_type": "code",
      "execution_count": 27,
      "metadata": {
        "colab": {
          "base_uri": "https://localhost:8080/"
        },
        "execution": {
          "iopub.status.busy": "2024-06-29T06:19:54.065925Z",
          "iopub.status.idle": "2024-06-29T06:19:54.066518Z"
        },
        "id": "hRnl8tF7stF2",
        "outputId": "a7299ac9-c47d-4c09-d255-82f25092dd93",
        "trusted": true
      },
      "outputs": [
        {
          "name": "stdout",
          "output_type": "stream",
          "text": [
            "Title -- Manchester Arena bombing: Saffie Roussos's parents on hearing the truth\n",
            "------------------------------------------------------------------------------------------------------------------------------------------------------------------------------------------------------------------------------------------------------------------------------------------------------------\n",
            "Recomendation 1 : 10625(IDX)  Martyn's Law: PM urged not to delay venue security bill || score : [0.1353995]\n",
            "\n",
            "Recomendation 2 : 17668(IDX)  Government support to be offered to disaster witnesses || score : [0.12471391]\n",
            "\n",
            "Recomendation 3 : 14621(IDX)  Homeless children: Living with trauma, tears and tiredness || score : [0.10852413]\n",
            "\n",
            "Recomendation 4 : 32867(IDX)  Barron Trump 'declines' Republican convention role || score : [0.10500797]\n",
            "\n",
            "Recomendation 5 : 17409(IDX)  Manchester Arena survivors lack support, study finds || score : [0.10256509]\n",
            "\n",
            "Recomendation 6 : 3276(IDX)  Manchester Arena bomb family 'living the best lives they can' || score : [0.10243733]\n",
            "\n",
            "Recomendation 7 : 4177(IDX)  Manchester bombing survivor climbs to Mount Kilimanjaro summit || score : [0.09817897]\n",
            "\n",
            "Recomendation 8 : 33011(IDX)  Co-op Live arena finally opens doors after delays || score : [0.09621511]\n",
            "\n",
            "Recomendation 9 : 14626(IDX)  Manchester Arena: Ex-bomb suspect regained citizenship in MI5 U-turn || score : [0.08847125]\n",
            "\n",
            "Recomendation 10 : 464(IDX)  The tragedy of Afghanistan's malnourished children || score : [0.06563382]\n",
            "\n"
          ]
        }
      ],
      "source": [
        "idx=3   #min_df=0.1  shape 1496 rows × 144 columns\n",
        "no_of_news_article=10\n",
        "recomendation(idx,no_of_news_article)"
      ]
    },
    {
      "cell_type": "markdown",
      "metadata": {
        "id": "IH4X2Nw5stF2"
      },
      "source": [
        "## Test 3 - when min_df=0.0 shape 1496 rows × 588777 columns"
      ]
    },
    {
      "cell_type": "code",
      "execution_count": 52,
      "metadata": {
        "colab": {
          "base_uri": "https://localhost:8080/"
        },
        "execution": {
          "iopub.status.busy": "2024-06-29T06:19:54.067875Z",
          "iopub.status.idle": "2024-06-29T06:19:54.068446Z"
        },
        "id": "HfUO7xkistF2",
        "outputId": "f1d86ed7-f56c-4b9e-a023-1219a550f91b",
        "trusted": true
      },
      "outputs": [
        {
          "name": "stdout",
          "output_type": "stream",
          "text": [
            "Article Read -- Groww, an investment app for millennials in India, raises $30M led by YC Continuity – TechCrunch link --http://techcrunch.com/2020/09/09/groww-an-investment-app-for-millennials-in-india-raises-30m-led-by-yc-continuity/\n",
            " ---------------------------------------------------------- \n",
            "Recomendation 1 --- 176(IDX)  2020-09-02 00:00:00 : 3one4 Capital launches $100M fund to back early-stage startups in India – TechCrunch || Link --http://techcrunch.com/2020/09/02/3one4-capital-launches-100m-fund-to-back-early-stage-startups-in-india/ score -- 0.05712325226508275\n",
            "\n",
            "Recomendation 2 --- 9(IDX)  2020-09-07 00:00:00 : Silver Lake leads $500 million investment round in Indian online learning giant Byju’s – TechCrunch || Link --http://techcrunch.com/2020/09/07/silver-lake-leads-500-million-round-in-indias-byjus/ score -- 0.05012420506583761\n",
            "\n",
            "Recomendation 3 --- 7(IDX)  2020-09-15 00:00:00 : Virtual events platform Airmeet raises $12M – TechCrunch || Link --http://techcrunch.com/2020/09/15/virtual-events-platform-airmeet-raises-12m/ score -- 0.04860331628063669\n",
            "\n",
            "Recomendation 4 --- 1(IDX)  2020-09-16 00:00:00 : Facebook addresses political controversy in India, monetization opportunities, startup investments – TechCrunch || Link --http://techcrunch.com/2020/09/16/facebook-addresses-political-controversy-in-india-monetization-opportunities-startup-investments/ score -- 0.04808100864680237\n",
            "\n",
            "Recomendation 5 --- 11(IDX)  2020-09-08 00:00:00 : Ambani’s Reliance Retail to raise $1 billion from Silver Lake – TechCrunch || Link --http://techcrunch.com/2020/09/08/reliance-retail-to-raise-1-billion-from-silver-lake/ score -- 0.04661801280603926\n",
            "\n",
            "Recomendation 6 --- 8(IDX)  2020-09-15 00:00:00 : Indian decacorn Byju’s CEO talks about future acquisitions, coronavirus and international expansion – TechCrunch || Link --http://techcrunch.com/2020/09/15/indian-decacorn-byjus-ceo-talks-about-future-acquisitions-coronavirus-and-international-expansion/ score -- 0.042400529328422434\n",
            "\n",
            "Recomendation 7 --- 97(IDX)  2020-08-25 00:00:00 : Here are the 94 companies from Y Combinator’s Summer 2020 Demo Day 2 – TechCrunch || Link --http://techcrunch.com/2020/08/25/here-are-the-94-companies-from-y-combinators-summer-2020-demo-day-2/ score -- 0.04143247655591229\n",
            "\n",
            "Recomendation 8 --- 178(IDX)  2020-08-31 00:00:00 : Chan Zuckerberg Initiative backs Indian education startup Eruditus in $113 million fundraise – TechCrunch || Link --http://techcrunch.com/2020/08/31/chan-zuckerberg-initiative-backs-indian-education-startup-eruditus-in-113-million-fundraise/ score -- 0.03992847727516041\n",
            "\n",
            "Recomendation 9 --- 564(IDX)  2020-09-11 00:00:00 : 10 Poland-based investors discuss trends, opportunities and the road ahead – TechCrunch || Link --http://techcrunch.com/2020/09/11/10-poland-based-investors-discuss-trends-opportunities-and-the-road-ahead/ score -- 0.03961769704900855\n",
            "\n",
            "Recomendation 10 --- 720(IDX)  2020-08-27 00:00:00 : Here’s how you can get a second shot at Startup Battlefield – TechCrunch || Link --http://techcrunch.com/2020/08/27/heres-how-you-can-get-a-second-shot-at-startup-battlefield/ score -- 0.03781986356587582\n",
            "\n"
          ]
        }
      ],
      "source": [
        "idx=3  #min_df=0.0 shape 1496 rows × 588777 columns\n",
        "no_of_news_article=10\n",
        "recomendation(idx,no_of_news_article)"
      ]
    },
    {
      "cell_type": "markdown",
      "metadata": {
        "id": "T8lgjvcNstF3"
      },
      "source": [
        "So When the size of the corpous is very large the similarity score decreases but predicitions are much better. And the score decreses because of regulersation there for nid_df - 0.0 was better in this case.\n",
        "However this is not true every time."
      ]
    },
    {
      "cell_type": "markdown",
      "metadata": {
        "id": "1VIbYoH5stF5"
      },
      "source": [
        "##### So what have we done till now --\n",
        "* We have implemented vector space method to map the documents where the tfidf -> first maps doc X words matrix ..\n",
        "* Then  we have found cosine similarity between the documents similar to  Singular Vector Decomposition where we have found the relation of documents with other's on the bases of text the other documents have and recommended the top n articles he may like"
      ]
    }
  ],
  "metadata": {
    "colab": {
      "name": "Content based News Recomender System 💻📸🎥",
      "provenance": []
    },
    "kaggle": {
      "accelerator": "none",
      "dataSources": [
        {
          "datasetId": 879591,
          "sourceId": 1497408,
          "sourceType": "datasetVersion"
        }
      ],
      "dockerImageVersionId": 30008,
      "isGpuEnabled": false,
      "isInternetEnabled": false,
      "language": "python",
      "sourceType": "notebook"
    },
    "kernelspec": {
      "display_name": "Python 3",
      "language": "python",
      "name": "python3"
    },
    "language_info": {
      "codemirror_mode": {
        "name": "ipython",
        "version": 3
      },
      "file_extension": ".py",
      "mimetype": "text/x-python",
      "name": "python",
      "nbconvert_exporter": "python",
      "pygments_lexer": "ipython3",
      "version": "3.12.4"
    }
  },
  "nbformat": 4,
  "nbformat_minor": 0
}
